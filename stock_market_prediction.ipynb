{
  "nbformat": 4,
  "nbformat_minor": 0,
  "metadata": {
    "colab": {
      "name": "stock_market_prediction.ipynb",
      "provenance": [],
      "collapsed_sections": []
    },
    "kernelspec": {
      "name": "python3",
      "display_name": "Python 3"
    }
  },
  "cells": [
    {
      "cell_type": "markdown",
      "metadata": {
        "id": "ZbCqX3FWtObz"
      },
      "source": [
        "# **STOCK MARKET PREDICTION USING NUMERICAL AND TEXTUAL ANALYSIS**\n",
        "**Siddharth Trivedi**\n",
        "\n",
        "https://github.com/SidT12/Stock-market-prediction\n",
        "\n",
        "Datasets used:\n",
        "\n",
        "\n",
        "1.   Historical stock prices (S&P BSE SENSEX) : https://finance.yahoo.com/\n",
        "2.   Textual News Headlines: https://dataverse.harvard.edu/api/access/datafile/:persistentId?persistentId=doi:10.7910/DVN/DPQMQH/P2Z4PM\n",
        "\n"
      ]
    },
    {
      "cell_type": "markdown",
      "metadata": {
        "id": "E9NgjoE5uc--"
      },
      "source": [
        "# Importing libraries, downloading and reading datasets"
      ]
    },
    {
      "cell_type": "code",
      "metadata": {
        "id": "kB1RboVzT0J6",
        "colab": {
          "base_uri": "https://localhost:8080/"
        },
        "outputId": "5c667c40-b995-4925-9480-ff1afa120f61"
      },
      "source": [
        "# importing libraries\n",
        "import warnings\n",
        "warnings.filterwarnings('ignore')\n",
        "\n",
        "import math\n",
        "import pandas as pd\n",
        "import numpy as np\n",
        "\n",
        "import matplotlib.pyplot as plt\n",
        "import seaborn as sns\n",
        "\n",
        "from sklearn import preprocessing, metrics\n",
        "from sklearn.preprocessing import MinMaxScaler\n",
        "\n",
        "from keras.models import Sequential\n",
        "from keras.layers import Dense, LSTM, Dropout, Dense, Activation\n",
        "\n",
        "import nltk\n",
        "nltk.download('vader_lexicon')\n",
        "from nltk.classify import NaiveBayesClassifier\n",
        "from nltk.corpus import subjectivity\n",
        "from nltk.sentiment import SentimentAnalyzer\n",
        "from nltk.sentiment.util import *"
      ],
      "execution_count": 3,
      "outputs": [
        {
          "output_type": "stream",
          "text": [
            "[nltk_data] Downloading package vader_lexicon to /root/nltk_data...\n",
            "[nltk_data]   Package vader_lexicon is already up-to-date!\n"
          ],
          "name": "stdout"
        }
      ]
    },
    {
      "cell_type": "code",
      "metadata": {
        "id": "2nOgLutPX5tt"
      },
      "source": [
        "# reading the datasets into pandas\n",
        "stock_price = pd.read_csv('BSESN.csv')\n"
      ],
      "execution_count": 4,
      "outputs": []
    },
    {
      "cell_type": "code",
      "metadata": {
        "id": "mykkKX0qdYZe"
      },
      "source": [
        "stock_headlines = pd.read_csv('https://dataverse.harvard.edu/api/access/datafile/:persistentId?persistentId=doi:10.7910/DVN/DPQMQH/P2Z4PM')"
      ],
      "execution_count": 5,
      "outputs": []
    },
    {
      "cell_type": "code",
      "metadata": {
        "colab": {
          "base_uri": "https://localhost:8080/",
          "height": 202
        },
        "id": "4lccoYdwYmwt",
        "outputId": "b4c36ab4-6a9b-41ef-b488-2f77cb41b05c"
      },
      "source": [
        "stock_price.head()"
      ],
      "execution_count": 6,
      "outputs": [
        {
          "output_type": "execute_result",
          "data": {
            "text/html": [
              "<div>\n",
              "<style scoped>\n",
              "    .dataframe tbody tr th:only-of-type {\n",
              "        vertical-align: middle;\n",
              "    }\n",
              "\n",
              "    .dataframe tbody tr th {\n",
              "        vertical-align: top;\n",
              "    }\n",
              "\n",
              "    .dataframe thead th {\n",
              "        text-align: right;\n",
              "    }\n",
              "</style>\n",
              "<table border=\"1\" class=\"dataframe\">\n",
              "  <thead>\n",
              "    <tr style=\"text-align: right;\">\n",
              "      <th></th>\n",
              "      <th>Date</th>\n",
              "      <th>Open</th>\n",
              "      <th>High</th>\n",
              "      <th>Low</th>\n",
              "      <th>Close</th>\n",
              "      <th>Adj Close</th>\n",
              "      <th>Volume</th>\n",
              "    </tr>\n",
              "  </thead>\n",
              "  <tbody>\n",
              "    <tr>\n",
              "      <th>0</th>\n",
              "      <td>2005-01-03</td>\n",
              "      <td>6626.490234</td>\n",
              "      <td>6684.220215</td>\n",
              "      <td>6626.490234</td>\n",
              "      <td>6679.200195</td>\n",
              "      <td>6679.200195</td>\n",
              "      <td>12000.0</td>\n",
              "    </tr>\n",
              "    <tr>\n",
              "      <th>1</th>\n",
              "      <td>2005-01-04</td>\n",
              "      <td>6683.560059</td>\n",
              "      <td>6696.310059</td>\n",
              "      <td>6640.899902</td>\n",
              "      <td>6651.009766</td>\n",
              "      <td>6651.009766</td>\n",
              "      <td>16600.0</td>\n",
              "    </tr>\n",
              "    <tr>\n",
              "      <th>2</th>\n",
              "      <td>2005-01-05</td>\n",
              "      <td>6628.890137</td>\n",
              "      <td>6629.979980</td>\n",
              "      <td>6337.609863</td>\n",
              "      <td>6458.839844</td>\n",
              "      <td>6458.839844</td>\n",
              "      <td>24000.0</td>\n",
              "    </tr>\n",
              "    <tr>\n",
              "      <th>3</th>\n",
              "      <td>2005-01-06</td>\n",
              "      <td>6447.270020</td>\n",
              "      <td>6481.229980</td>\n",
              "      <td>6325.359863</td>\n",
              "      <td>6367.390137</td>\n",
              "      <td>6367.390137</td>\n",
              "      <td>22200.0</td>\n",
              "    </tr>\n",
              "    <tr>\n",
              "      <th>4</th>\n",
              "      <td>2005-01-07</td>\n",
              "      <td>6374.189941</td>\n",
              "      <td>6440.169922</td>\n",
              "      <td>6348.750000</td>\n",
              "      <td>6420.459961</td>\n",
              "      <td>6420.459961</td>\n",
              "      <td>17800.0</td>\n",
              "    </tr>\n",
              "  </tbody>\n",
              "</table>\n",
              "</div>"
            ],
            "text/plain": [
              "         Date         Open         High  ...        Close    Adj Close   Volume\n",
              "0  2005-01-03  6626.490234  6684.220215  ...  6679.200195  6679.200195  12000.0\n",
              "1  2005-01-04  6683.560059  6696.310059  ...  6651.009766  6651.009766  16600.0\n",
              "2  2005-01-05  6628.890137  6629.979980  ...  6458.839844  6458.839844  24000.0\n",
              "3  2005-01-06  6447.270020  6481.229980  ...  6367.390137  6367.390137  22200.0\n",
              "4  2005-01-07  6374.189941  6440.169922  ...  6420.459961  6420.459961  17800.0\n",
              "\n",
              "[5 rows x 7 columns]"
            ]
          },
          "metadata": {
            "tags": []
          },
          "execution_count": 6
        }
      ]
    },
    {
      "cell_type": "code",
      "metadata": {
        "id": "cSFKG4vWYpd0",
        "colab": {
          "base_uri": "https://localhost:8080/",
          "height": 202
        },
        "outputId": "1f85f617-e130-4e2c-b4c3-95b409c7721a"
      },
      "source": [
        "stock_headlines.head()"
      ],
      "execution_count": 7,
      "outputs": [
        {
          "output_type": "execute_result",
          "data": {
            "text/html": [
              "<div>\n",
              "<style scoped>\n",
              "    .dataframe tbody tr th:only-of-type {\n",
              "        vertical-align: middle;\n",
              "    }\n",
              "\n",
              "    .dataframe tbody tr th {\n",
              "        vertical-align: top;\n",
              "    }\n",
              "\n",
              "    .dataframe thead th {\n",
              "        text-align: right;\n",
              "    }\n",
              "</style>\n",
              "<table border=\"1\" class=\"dataframe\">\n",
              "  <thead>\n",
              "    <tr style=\"text-align: right;\">\n",
              "      <th></th>\n",
              "      <th>publish_date</th>\n",
              "      <th>headline_category</th>\n",
              "      <th>headline_text</th>\n",
              "    </tr>\n",
              "  </thead>\n",
              "  <tbody>\n",
              "    <tr>\n",
              "      <th>0</th>\n",
              "      <td>20010101</td>\n",
              "      <td>sports.wwe</td>\n",
              "      <td>win over cena satisfying but defeating underta...</td>\n",
              "    </tr>\n",
              "    <tr>\n",
              "      <th>1</th>\n",
              "      <td>20010102</td>\n",
              "      <td>unknown</td>\n",
              "      <td>Status quo will not be disturbed at Ayodhya; s...</td>\n",
              "    </tr>\n",
              "    <tr>\n",
              "      <th>2</th>\n",
              "      <td>20010102</td>\n",
              "      <td>unknown</td>\n",
              "      <td>Fissures in Hurriyat over Pak visit</td>\n",
              "    </tr>\n",
              "    <tr>\n",
              "      <th>3</th>\n",
              "      <td>20010102</td>\n",
              "      <td>unknown</td>\n",
              "      <td>America's unwanted heading for India?</td>\n",
              "    </tr>\n",
              "    <tr>\n",
              "      <th>4</th>\n",
              "      <td>20010102</td>\n",
              "      <td>unknown</td>\n",
              "      <td>For bigwigs; it is destination Goa</td>\n",
              "    </tr>\n",
              "  </tbody>\n",
              "</table>\n",
              "</div>"
            ],
            "text/plain": [
              "   publish_date  ...                                      headline_text\n",
              "0      20010101  ...  win over cena satisfying but defeating underta...\n",
              "1      20010102  ...  Status quo will not be disturbed at Ayodhya; s...\n",
              "2      20010102  ...                Fissures in Hurriyat over Pak visit\n",
              "3      20010102  ...              America's unwanted heading for India?\n",
              "4      20010102  ...                 For bigwigs; it is destination Goa\n",
              "\n",
              "[5 rows x 3 columns]"
            ]
          },
          "metadata": {
            "tags": []
          },
          "execution_count": 7
        }
      ]
    },
    {
      "cell_type": "code",
      "metadata": {
        "colab": {
          "base_uri": "https://localhost:8080/"
        },
        "id": "jYJ343nSdPE1",
        "outputId": "1bb10460-fd21-49a4-f264-fa9f30fa84c8"
      },
      "source": [
        "len(stock_price), len(stock_headlines)"
      ],
      "execution_count": 8,
      "outputs": [
        {
          "output_type": "execute_result",
          "data": {
            "text/plain": [
              "(3912, 3297172)"
            ]
          },
          "metadata": {
            "tags": []
          },
          "execution_count": 8
        }
      ]
    },
    {
      "cell_type": "code",
      "metadata": {
        "colab": {
          "base_uri": "https://localhost:8080/"
        },
        "id": "-_6rw3zEdAhS",
        "outputId": "83c7de54-1fe7-4bcb-8f92-fcf1822c2ed6"
      },
      "source": [
        "stock_price.isna().any(), stock_headlines.isna().any()"
      ],
      "execution_count": 9,
      "outputs": [
        {
          "output_type": "execute_result",
          "data": {
            "text/plain": [
              "(Date         False\n",
              " Open          True\n",
              " High          True\n",
              " Low           True\n",
              " Close         True\n",
              " Adj Close     True\n",
              " Volume        True\n",
              " dtype: bool, publish_date         False\n",
              " headline_category    False\n",
              " headline_text        False\n",
              " dtype: bool)"
            ]
          },
          "metadata": {
            "tags": []
          },
          "execution_count": 9
        }
      ]
    },
    {
      "cell_type": "markdown",
      "metadata": {
        "id": "XSRMqwuWvemj"
      },
      "source": [
        "# Feature engineering for stock prices"
      ]
    },
    {
      "cell_type": "code",
      "metadata": {
        "id": "3Qrz1QubdHB9"
      },
      "source": [
        "stock_price.dropna(axis=0, inplace=True) #dropping null entries"
      ],
      "execution_count": 10,
      "outputs": []
    },
    {
      "cell_type": "code",
      "metadata": {
        "colab": {
          "base_uri": "https://localhost:8080/",
          "height": 446
        },
        "id": "UhhAkKp4dRWX",
        "outputId": "cfa17cd6-cbd6-4913-8dd5-6ac7227eff64"
      },
      "source": [
        "# dropping duplicates\n",
        "stock_price = stock_price.drop_duplicates()\n",
        "\n",
        "# coverting the datatype of column 'Date' from type object to type 'datetime'\n",
        "stock_price['Date'] = pd.to_datetime(stock_price['Date']).dt.normalize()\n",
        "\n",
        "# filtering the important columns required\n",
        "stock_price = stock_price.filter(['Date', 'Close', 'Open', 'High', 'Low', 'Volume'])\n",
        "\n",
        "# setting column 'Date' as the index column\n",
        "stock_price.set_index('Date', inplace= True)\n",
        "\n",
        "# sorting the data according to the index i.e 'Date'\n",
        "stock_price = stock_price.sort_index(ascending=True, axis=0)\n",
        "stock_price"
      ],
      "execution_count": 11,
      "outputs": [
        {
          "output_type": "execute_result",
          "data": {
            "text/html": [
              "<div>\n",
              "<style scoped>\n",
              "    .dataframe tbody tr th:only-of-type {\n",
              "        vertical-align: middle;\n",
              "    }\n",
              "\n",
              "    .dataframe tbody tr th {\n",
              "        vertical-align: top;\n",
              "    }\n",
              "\n",
              "    .dataframe thead th {\n",
              "        text-align: right;\n",
              "    }\n",
              "</style>\n",
              "<table border=\"1\" class=\"dataframe\">\n",
              "  <thead>\n",
              "    <tr style=\"text-align: right;\">\n",
              "      <th></th>\n",
              "      <th>Close</th>\n",
              "      <th>Open</th>\n",
              "      <th>High</th>\n",
              "      <th>Low</th>\n",
              "      <th>Volume</th>\n",
              "    </tr>\n",
              "    <tr>\n",
              "      <th>Date</th>\n",
              "      <th></th>\n",
              "      <th></th>\n",
              "      <th></th>\n",
              "      <th></th>\n",
              "      <th></th>\n",
              "    </tr>\n",
              "  </thead>\n",
              "  <tbody>\n",
              "    <tr>\n",
              "      <th>2005-01-03</th>\n",
              "      <td>6679.200195</td>\n",
              "      <td>6626.490234</td>\n",
              "      <td>6684.220215</td>\n",
              "      <td>6626.490234</td>\n",
              "      <td>12000.0</td>\n",
              "    </tr>\n",
              "    <tr>\n",
              "      <th>2005-01-04</th>\n",
              "      <td>6651.009766</td>\n",
              "      <td>6683.560059</td>\n",
              "      <td>6696.310059</td>\n",
              "      <td>6640.899902</td>\n",
              "      <td>16600.0</td>\n",
              "    </tr>\n",
              "    <tr>\n",
              "      <th>2005-01-05</th>\n",
              "      <td>6458.839844</td>\n",
              "      <td>6628.890137</td>\n",
              "      <td>6629.979980</td>\n",
              "      <td>6337.609863</td>\n",
              "      <td>24000.0</td>\n",
              "    </tr>\n",
              "    <tr>\n",
              "      <th>2005-01-06</th>\n",
              "      <td>6367.390137</td>\n",
              "      <td>6447.270020</td>\n",
              "      <td>6481.229980</td>\n",
              "      <td>6325.359863</td>\n",
              "      <td>22200.0</td>\n",
              "    </tr>\n",
              "    <tr>\n",
              "      <th>2005-01-07</th>\n",
              "      <td>6420.459961</td>\n",
              "      <td>6374.189941</td>\n",
              "      <td>6440.169922</td>\n",
              "      <td>6348.750000</td>\n",
              "      <td>17800.0</td>\n",
              "    </tr>\n",
              "    <tr>\n",
              "      <th>...</th>\n",
              "      <td>...</td>\n",
              "      <td>...</td>\n",
              "      <td>...</td>\n",
              "      <td>...</td>\n",
              "      <td>...</td>\n",
              "    </tr>\n",
              "    <tr>\n",
              "      <th>2020-10-26</th>\n",
              "      <td>40145.500000</td>\n",
              "      <td>40649.761719</td>\n",
              "      <td>40724.398438</td>\n",
              "      <td>39948.289063</td>\n",
              "      <td>10100.0</td>\n",
              "    </tr>\n",
              "    <tr>\n",
              "      <th>2020-10-27</th>\n",
              "      <td>40522.101563</td>\n",
              "      <td>40199.078125</td>\n",
              "      <td>40555.601563</td>\n",
              "      <td>39978.390625</td>\n",
              "      <td>13900.0</td>\n",
              "    </tr>\n",
              "    <tr>\n",
              "      <th>2020-10-28</th>\n",
              "      <td>39922.460938</td>\n",
              "      <td>40664.351563</td>\n",
              "      <td>40664.351563</td>\n",
              "      <td>39774.601563</td>\n",
              "      <td>29400.0</td>\n",
              "    </tr>\n",
              "    <tr>\n",
              "      <th>2020-10-29</th>\n",
              "      <td>39749.851563</td>\n",
              "      <td>39537.171875</td>\n",
              "      <td>40010.828125</td>\n",
              "      <td>39524.250000</td>\n",
              "      <td>19500.0</td>\n",
              "    </tr>\n",
              "    <tr>\n",
              "      <th>2020-10-30</th>\n",
              "      <td>39614.070313</td>\n",
              "      <td>39779.820313</td>\n",
              "      <td>39988.250000</td>\n",
              "      <td>39241.871094</td>\n",
              "      <td>12000.0</td>\n",
              "    </tr>\n",
              "  </tbody>\n",
              "</table>\n",
              "<p>3884 rows × 5 columns</p>\n",
              "</div>"
            ],
            "text/plain": [
              "                   Close          Open          High           Low   Volume\n",
              "Date                                                                       \n",
              "2005-01-03   6679.200195   6626.490234   6684.220215   6626.490234  12000.0\n",
              "2005-01-04   6651.009766   6683.560059   6696.310059   6640.899902  16600.0\n",
              "2005-01-05   6458.839844   6628.890137   6629.979980   6337.609863  24000.0\n",
              "2005-01-06   6367.390137   6447.270020   6481.229980   6325.359863  22200.0\n",
              "2005-01-07   6420.459961   6374.189941   6440.169922   6348.750000  17800.0\n",
              "...                  ...           ...           ...           ...      ...\n",
              "2020-10-26  40145.500000  40649.761719  40724.398438  39948.289063  10100.0\n",
              "2020-10-27  40522.101563  40199.078125  40555.601563  39978.390625  13900.0\n",
              "2020-10-28  39922.460938  40664.351563  40664.351563  39774.601563  29400.0\n",
              "2020-10-29  39749.851563  39537.171875  40010.828125  39524.250000  19500.0\n",
              "2020-10-30  39614.070313  39779.820313  39988.250000  39241.871094  12000.0\n",
              "\n",
              "[3884 rows x 5 columns]"
            ]
          },
          "metadata": {
            "tags": []
          },
          "execution_count": 11
        }
      ]
    },
    {
      "cell_type": "markdown",
      "metadata": {
        "id": "ZoUSkoWqvvvr"
      },
      "source": [
        "# Feature engineering for stock headlines"
      ]
    },
    {
      "cell_type": "code",
      "metadata": {
        "colab": {
          "base_uri": "https://localhost:8080/",
          "height": 446
        },
        "id": "QQqDzjYfd2iv",
        "outputId": "95acb8c0-773e-463f-9cff-bcbb01164195"
      },
      "source": [
        "# dropping duplicates\n",
        "stock_headlines = stock_headlines.drop_duplicates()\n",
        "\n",
        "# coverting the datatype of column 'Date' from type string to type 'datetime'\n",
        "stock_headlines['publish_date'] = stock_headlines['publish_date'].astype(str)\n",
        "stock_headlines['publish_date'] = stock_headlines['publish_date'].apply(lambda x: x[0:4]+'-'+x[4:6]+'-'+x[6:8])\n",
        "stock_headlines['publish_date'] = pd.to_datetime(stock_headlines['publish_date']).dt.normalize()\n",
        "\n",
        "# filtering the important columns required\n",
        "stock_headlines = stock_headlines.filter(['publish_date', 'headline_text'])\n",
        "\n",
        "# grouping the news headlines according to 'Date'\n",
        "stock_headlines = stock_headlines.groupby(['publish_date'])['headline_text'].apply(lambda x: ','.join(x)).reset_index()\n",
        "\n",
        "# setting column 'Date' as the index column\n",
        "stock_headlines.set_index('publish_date', inplace= True)\n",
        "\n",
        "# sorting the data according to the index i.e 'Date'\n",
        "stock_headlines = stock_headlines.sort_index(ascending=True, axis=0)\n",
        "stock_headlines"
      ],
      "execution_count": 12,
      "outputs": [
        {
          "output_type": "execute_result",
          "data": {
            "text/html": [
              "<div>\n",
              "<style scoped>\n",
              "    .dataframe tbody tr th:only-of-type {\n",
              "        vertical-align: middle;\n",
              "    }\n",
              "\n",
              "    .dataframe tbody tr th {\n",
              "        vertical-align: top;\n",
              "    }\n",
              "\n",
              "    .dataframe thead th {\n",
              "        text-align: right;\n",
              "    }\n",
              "</style>\n",
              "<table border=\"1\" class=\"dataframe\">\n",
              "  <thead>\n",
              "    <tr style=\"text-align: right;\">\n",
              "      <th></th>\n",
              "      <th>headline_text</th>\n",
              "    </tr>\n",
              "    <tr>\n",
              "      <th>publish_date</th>\n",
              "      <th></th>\n",
              "    </tr>\n",
              "  </thead>\n",
              "  <tbody>\n",
              "    <tr>\n",
              "      <th>2001-01-01</th>\n",
              "      <td>win over cena satisfying but defeating underta...</td>\n",
              "    </tr>\n",
              "    <tr>\n",
              "      <th>2001-01-02</th>\n",
              "      <td>Status quo will not be disturbed at Ayodhya; s...</td>\n",
              "    </tr>\n",
              "    <tr>\n",
              "      <th>2001-01-03</th>\n",
              "      <td>Powerless north India gropes in the dark,Think...</td>\n",
              "    </tr>\n",
              "    <tr>\n",
              "      <th>2001-01-04</th>\n",
              "      <td>The string that pulled Stephen Hawking to Indi...</td>\n",
              "    </tr>\n",
              "    <tr>\n",
              "      <th>2001-01-05</th>\n",
              "      <td>Light combat craft takes India into club class...</td>\n",
              "    </tr>\n",
              "    <tr>\n",
              "      <th>...</th>\n",
              "      <td>...</td>\n",
              "    </tr>\n",
              "    <tr>\n",
              "      <th>2020-06-26</th>\n",
              "      <td>Containment zone residents slam high prices ch...</td>\n",
              "    </tr>\n",
              "    <tr>\n",
              "      <th>2020-06-27</th>\n",
              "      <td>like me i wont let you have a toxic relationsh...</td>\n",
              "    </tr>\n",
              "    <tr>\n",
              "      <th>2020-06-28</th>\n",
              "      <td>Atanu Ghosh plans to rewrite old scripts to ma...</td>\n",
              "    </tr>\n",
              "    <tr>\n",
              "      <th>2020-06-29</th>\n",
              "      <td>6 hot and stylish bikini looks of Katrina Kaif...</td>\n",
              "    </tr>\n",
              "    <tr>\n",
              "      <th>2020-06-30</th>\n",
              "      <td>Detective Byomkesh Bakshy!,Edge of Tomorrow,Fi...</td>\n",
              "    </tr>\n",
              "  </tbody>\n",
              "</table>\n",
              "<p>7080 rows × 1 columns</p>\n",
              "</div>"
            ],
            "text/plain": [
              "                                                  headline_text\n",
              "publish_date                                                   \n",
              "2001-01-01    win over cena satisfying but defeating underta...\n",
              "2001-01-02    Status quo will not be disturbed at Ayodhya; s...\n",
              "2001-01-03    Powerless north India gropes in the dark,Think...\n",
              "2001-01-04    The string that pulled Stephen Hawking to Indi...\n",
              "2001-01-05    Light combat craft takes India into club class...\n",
              "...                                                         ...\n",
              "2020-06-26    Containment zone residents slam high prices ch...\n",
              "2020-06-27    like me i wont let you have a toxic relationsh...\n",
              "2020-06-28    Atanu Ghosh plans to rewrite old scripts to ma...\n",
              "2020-06-29    6 hot and stylish bikini looks of Katrina Kaif...\n",
              "2020-06-30    Detective Byomkesh Bakshy!,Edge of Tomorrow,Fi...\n",
              "\n",
              "[7080 rows x 1 columns]"
            ]
          },
          "metadata": {
            "tags": []
          },
          "execution_count": 12
        }
      ]
    },
    {
      "cell_type": "markdown",
      "metadata": {
        "id": "oemL9gxmv9FI"
      },
      "source": [
        "# Combining both datasets"
      ]
    },
    {
      "cell_type": "code",
      "metadata": {
        "colab": {
          "base_uri": "https://localhost:8080/",
          "height": 415
        },
        "id": "MQVpiS2BoWRK",
        "outputId": "c65a8451-c102-492a-b4af-3655a4515061"
      },
      "source": [
        "\n",
        "# concatenating the datasets stock_price and stock_headlines\n",
        "stock_data = pd.concat([stock_price, stock_headlines], axis=1)\n",
        "\n",
        "# dropping the null values if any\n",
        "stock_data.dropna(axis=0, inplace=True)\n",
        "\n",
        "# displaying the combined stock_data\n",
        "stock_data"
      ],
      "execution_count": 13,
      "outputs": [
        {
          "output_type": "execute_result",
          "data": {
            "text/html": [
              "<div>\n",
              "<style scoped>\n",
              "    .dataframe tbody tr th:only-of-type {\n",
              "        vertical-align: middle;\n",
              "    }\n",
              "\n",
              "    .dataframe tbody tr th {\n",
              "        vertical-align: top;\n",
              "    }\n",
              "\n",
              "    .dataframe thead th {\n",
              "        text-align: right;\n",
              "    }\n",
              "</style>\n",
              "<table border=\"1\" class=\"dataframe\">\n",
              "  <thead>\n",
              "    <tr style=\"text-align: right;\">\n",
              "      <th></th>\n",
              "      <th>Close</th>\n",
              "      <th>Open</th>\n",
              "      <th>High</th>\n",
              "      <th>Low</th>\n",
              "      <th>Volume</th>\n",
              "      <th>headline_text</th>\n",
              "    </tr>\n",
              "  </thead>\n",
              "  <tbody>\n",
              "    <tr>\n",
              "      <th>2005-01-03</th>\n",
              "      <td>6679.200195</td>\n",
              "      <td>6626.490234</td>\n",
              "      <td>6684.220215</td>\n",
              "      <td>6626.490234</td>\n",
              "      <td>12000.0</td>\n",
              "      <td>ICAI compliments minister,Partnering for futur...</td>\n",
              "    </tr>\n",
              "    <tr>\n",
              "      <th>2005-01-04</th>\n",
              "      <td>6651.009766</td>\n",
              "      <td>6683.560059</td>\n",
              "      <td>6696.310059</td>\n",
              "      <td>6640.899902</td>\n",
              "      <td>16600.0</td>\n",
              "      <td>Arab Gaze,Uniform Laws,Tsunami Relief,Double S...</td>\n",
              "    </tr>\n",
              "    <tr>\n",
              "      <th>2005-01-05</th>\n",
              "      <td>6458.839844</td>\n",
              "      <td>6628.890137</td>\n",
              "      <td>6629.979980</td>\n",
              "      <td>6337.609863</td>\n",
              "      <td>24000.0</td>\n",
              "      <td>Quake Rumours,Mishap reunites 12-yr boy with f...</td>\n",
              "    </tr>\n",
              "    <tr>\n",
              "      <th>2005-01-06</th>\n",
              "      <td>6367.390137</td>\n",
              "      <td>6447.270020</td>\n",
              "      <td>6481.229980</td>\n",
              "      <td>6325.359863</td>\n",
              "      <td>22200.0</td>\n",
              "      <td>Doon School preparing to admit girls?,Market M...</td>\n",
              "    </tr>\n",
              "    <tr>\n",
              "      <th>2005-01-07</th>\n",
              "      <td>6420.459961</td>\n",
              "      <td>6374.189941</td>\n",
              "      <td>6440.169922</td>\n",
              "      <td>6348.750000</td>\n",
              "      <td>17800.0</td>\n",
              "      <td>Faultline Repair,No Parade; Please,NRI Spirit,...</td>\n",
              "    </tr>\n",
              "    <tr>\n",
              "      <th>...</th>\n",
              "      <td>...</td>\n",
              "      <td>...</td>\n",
              "      <td>...</td>\n",
              "      <td>...</td>\n",
              "      <td>...</td>\n",
              "      <td>...</td>\n",
              "    </tr>\n",
              "    <tr>\n",
              "      <th>2020-06-24</th>\n",
              "      <td>34868.980469</td>\n",
              "      <td>35679.738281</td>\n",
              "      <td>35706.550781</td>\n",
              "      <td>34794.929688</td>\n",
              "      <td>26600.0</td>\n",
              "      <td>I never thought I had a voice until today: Vid...</td>\n",
              "    </tr>\n",
              "    <tr>\n",
              "      <th>2020-06-25</th>\n",
              "      <td>34842.101563</td>\n",
              "      <td>34525.390625</td>\n",
              "      <td>35081.609375</td>\n",
              "      <td>34499.781250</td>\n",
              "      <td>24600.0</td>\n",
              "      <td>Truck firms look for new export markets to sel...</td>\n",
              "    </tr>\n",
              "    <tr>\n",
              "      <th>2020-06-26</th>\n",
              "      <td>35171.269531</td>\n",
              "      <td>35144.781250</td>\n",
              "      <td>35254.878906</td>\n",
              "      <td>34910.339844</td>\n",
              "      <td>24800.0</td>\n",
              "      <td>Containment zone residents slam high prices ch...</td>\n",
              "    </tr>\n",
              "    <tr>\n",
              "      <th>2020-06-29</th>\n",
              "      <td>34961.519531</td>\n",
              "      <td>34926.949219</td>\n",
              "      <td>35032.359375</td>\n",
              "      <td>34662.058594</td>\n",
              "      <td>18300.0</td>\n",
              "      <td>6 hot and stylish bikini looks of Katrina Kaif...</td>\n",
              "    </tr>\n",
              "    <tr>\n",
              "      <th>2020-06-30</th>\n",
              "      <td>34915.800781</td>\n",
              "      <td>35168.300781</td>\n",
              "      <td>35233.910156</td>\n",
              "      <td>34812.800781</td>\n",
              "      <td>18500.0</td>\n",
              "      <td>Detective Byomkesh Bakshy!,Edge of Tomorrow,Fi...</td>\n",
              "    </tr>\n",
              "  </tbody>\n",
              "</table>\n",
              "<p>3797 rows × 6 columns</p>\n",
              "</div>"
            ],
            "text/plain": [
              "                   Close  ...                                      headline_text\n",
              "2005-01-03   6679.200195  ...  ICAI compliments minister,Partnering for futur...\n",
              "2005-01-04   6651.009766  ...  Arab Gaze,Uniform Laws,Tsunami Relief,Double S...\n",
              "2005-01-05   6458.839844  ...  Quake Rumours,Mishap reunites 12-yr boy with f...\n",
              "2005-01-06   6367.390137  ...  Doon School preparing to admit girls?,Market M...\n",
              "2005-01-07   6420.459961  ...  Faultline Repair,No Parade; Please,NRI Spirit,...\n",
              "...                  ...  ...                                                ...\n",
              "2020-06-24  34868.980469  ...  I never thought I had a voice until today: Vid...\n",
              "2020-06-25  34842.101563  ...  Truck firms look for new export markets to sel...\n",
              "2020-06-26  35171.269531  ...  Containment zone residents slam high prices ch...\n",
              "2020-06-29  34961.519531  ...  6 hot and stylish bikini looks of Katrina Kaif...\n",
              "2020-06-30  34915.800781  ...  Detective Byomkesh Bakshy!,Edge of Tomorrow,Fi...\n",
              "\n",
              "[3797 rows x 6 columns]"
            ]
          },
          "metadata": {
            "tags": []
          },
          "execution_count": 13
        }
      ]
    },
    {
      "cell_type": "markdown",
      "metadata": {
        "id": "lsZeCy0-wI7v"
      },
      "source": [
        "# Performing Sentiment Analysis"
      ]
    },
    {
      "cell_type": "code",
      "metadata": {
        "colab": {
          "base_uri": "https://localhost:8080/",
          "height": 289
        },
        "id": "yzrH9JtBog1F",
        "outputId": "f3d5d29f-6261-4c00-d6ed-96a81a94c0d3"
      },
      "source": [
        "# adding empty sentiment columns to stock_data for later calculation\n",
        "stock_data['compound'] = ''\n",
        "stock_data['negative'] = ''\n",
        "stock_data['neutral'] = ''\n",
        "stock_data['positive'] = ''\n",
        "stock_data.head()"
      ],
      "execution_count": 14,
      "outputs": [
        {
          "output_type": "execute_result",
          "data": {
            "text/html": [
              "<div>\n",
              "<style scoped>\n",
              "    .dataframe tbody tr th:only-of-type {\n",
              "        vertical-align: middle;\n",
              "    }\n",
              "\n",
              "    .dataframe tbody tr th {\n",
              "        vertical-align: top;\n",
              "    }\n",
              "\n",
              "    .dataframe thead th {\n",
              "        text-align: right;\n",
              "    }\n",
              "</style>\n",
              "<table border=\"1\" class=\"dataframe\">\n",
              "  <thead>\n",
              "    <tr style=\"text-align: right;\">\n",
              "      <th></th>\n",
              "      <th>Close</th>\n",
              "      <th>Open</th>\n",
              "      <th>High</th>\n",
              "      <th>Low</th>\n",
              "      <th>Volume</th>\n",
              "      <th>headline_text</th>\n",
              "      <th>compound</th>\n",
              "      <th>negative</th>\n",
              "      <th>neutral</th>\n",
              "      <th>positive</th>\n",
              "    </tr>\n",
              "  </thead>\n",
              "  <tbody>\n",
              "    <tr>\n",
              "      <th>2005-01-03</th>\n",
              "      <td>6679.200195</td>\n",
              "      <td>6626.490234</td>\n",
              "      <td>6684.220215</td>\n",
              "      <td>6626.490234</td>\n",
              "      <td>12000.0</td>\n",
              "      <td>ICAI compliments minister,Partnering for futur...</td>\n",
              "      <td></td>\n",
              "      <td></td>\n",
              "      <td></td>\n",
              "      <td></td>\n",
              "    </tr>\n",
              "    <tr>\n",
              "      <th>2005-01-04</th>\n",
              "      <td>6651.009766</td>\n",
              "      <td>6683.560059</td>\n",
              "      <td>6696.310059</td>\n",
              "      <td>6640.899902</td>\n",
              "      <td>16600.0</td>\n",
              "      <td>Arab Gaze,Uniform Laws,Tsunami Relief,Double S...</td>\n",
              "      <td></td>\n",
              "      <td></td>\n",
              "      <td></td>\n",
              "      <td></td>\n",
              "    </tr>\n",
              "    <tr>\n",
              "      <th>2005-01-05</th>\n",
              "      <td>6458.839844</td>\n",
              "      <td>6628.890137</td>\n",
              "      <td>6629.979980</td>\n",
              "      <td>6337.609863</td>\n",
              "      <td>24000.0</td>\n",
              "      <td>Quake Rumours,Mishap reunites 12-yr boy with f...</td>\n",
              "      <td></td>\n",
              "      <td></td>\n",
              "      <td></td>\n",
              "      <td></td>\n",
              "    </tr>\n",
              "    <tr>\n",
              "      <th>2005-01-06</th>\n",
              "      <td>6367.390137</td>\n",
              "      <td>6447.270020</td>\n",
              "      <td>6481.229980</td>\n",
              "      <td>6325.359863</td>\n",
              "      <td>22200.0</td>\n",
              "      <td>Doon School preparing to admit girls?,Market M...</td>\n",
              "      <td></td>\n",
              "      <td></td>\n",
              "      <td></td>\n",
              "      <td></td>\n",
              "    </tr>\n",
              "    <tr>\n",
              "      <th>2005-01-07</th>\n",
              "      <td>6420.459961</td>\n",
              "      <td>6374.189941</td>\n",
              "      <td>6440.169922</td>\n",
              "      <td>6348.750000</td>\n",
              "      <td>17800.0</td>\n",
              "      <td>Faultline Repair,No Parade; Please,NRI Spirit,...</td>\n",
              "      <td></td>\n",
              "      <td></td>\n",
              "      <td></td>\n",
              "      <td></td>\n",
              "    </tr>\n",
              "  </tbody>\n",
              "</table>\n",
              "</div>"
            ],
            "text/plain": [
              "                  Close         Open         High  ...  negative  neutral positive\n",
              "2005-01-03  6679.200195  6626.490234  6684.220215  ...                            \n",
              "2005-01-04  6651.009766  6683.560059  6696.310059  ...                            \n",
              "2005-01-05  6458.839844  6628.890137  6629.979980  ...                            \n",
              "2005-01-06  6367.390137  6447.270020  6481.229980  ...                            \n",
              "2005-01-07  6420.459961  6374.189941  6440.169922  ...                            \n",
              "\n",
              "[5 rows x 10 columns]"
            ]
          },
          "metadata": {
            "tags": []
          },
          "execution_count": 14
        }
      ]
    },
    {
      "cell_type": "code",
      "metadata": {
        "colab": {
          "base_uri": "https://localhost:8080/",
          "height": 393
        },
        "id": "qd-jZRpQpVoO",
        "outputId": "eece54cb-85b9-4db4-b143-391a93b1e032"
      },
      "source": [
        "\n",
        "# importing requires libraries to analyze the sentiments\n",
        "from nltk.sentiment.vader import SentimentIntensityAnalyzer\n",
        "import unicodedata\n",
        "\n",
        "# instantiating the Sentiment Analyzer\n",
        "sid = SentimentIntensityAnalyzer()\n",
        "print('Start calculating sentiment scores......')\n",
        "# calculating sentiment scores\n",
        "stock_data['compound'] = stock_data['headline_text'].apply(lambda x: sid.polarity_scores(x)['compound'])\n",
        "print('Compound Done')\n",
        "stock_data['negative'] = stock_data['headline_text'].apply(lambda x: sid.polarity_scores(x)['neg'])\n",
        "print('Negative Done')\n",
        "stock_data['neutral'] = stock_data['headline_text'].apply(lambda x: sid.polarity_scores(x)['neu'])\n",
        "print('Neutral Done')\n",
        "stock_data['positive'] = stock_data['headline_text'].apply(lambda x: sid.polarity_scores(x)['pos'])\n",
        "print('Positive Done')\n",
        "print('Stop')\n",
        "\n",
        "# displaying the stock data\n",
        "stock_data.head()\n"
      ],
      "execution_count": 15,
      "outputs": [
        {
          "output_type": "stream",
          "text": [
            "Start calculating sentiment scores......\n",
            "Compound Done\n",
            "Negative Done\n",
            "Neutral Done\n",
            "Positive Done\n",
            "Stop\n"
          ],
          "name": "stdout"
        },
        {
          "output_type": "execute_result",
          "data": {
            "text/html": [
              "<div>\n",
              "<style scoped>\n",
              "    .dataframe tbody tr th:only-of-type {\n",
              "        vertical-align: middle;\n",
              "    }\n",
              "\n",
              "    .dataframe tbody tr th {\n",
              "        vertical-align: top;\n",
              "    }\n",
              "\n",
              "    .dataframe thead th {\n",
              "        text-align: right;\n",
              "    }\n",
              "</style>\n",
              "<table border=\"1\" class=\"dataframe\">\n",
              "  <thead>\n",
              "    <tr style=\"text-align: right;\">\n",
              "      <th></th>\n",
              "      <th>Close</th>\n",
              "      <th>Open</th>\n",
              "      <th>High</th>\n",
              "      <th>Low</th>\n",
              "      <th>Volume</th>\n",
              "      <th>headline_text</th>\n",
              "      <th>compound</th>\n",
              "      <th>negative</th>\n",
              "      <th>neutral</th>\n",
              "      <th>positive</th>\n",
              "    </tr>\n",
              "  </thead>\n",
              "  <tbody>\n",
              "    <tr>\n",
              "      <th>2005-01-03</th>\n",
              "      <td>6679.200195</td>\n",
              "      <td>6626.490234</td>\n",
              "      <td>6684.220215</td>\n",
              "      <td>6626.490234</td>\n",
              "      <td>12000.0</td>\n",
              "      <td>ICAI compliments minister,Partnering for futur...</td>\n",
              "      <td>-0.9731</td>\n",
              "      <td>0.114</td>\n",
              "      <td>0.802</td>\n",
              "      <td>0.084</td>\n",
              "    </tr>\n",
              "    <tr>\n",
              "      <th>2005-01-04</th>\n",
              "      <td>6651.009766</td>\n",
              "      <td>6683.560059</td>\n",
              "      <td>6696.310059</td>\n",
              "      <td>6640.899902</td>\n",
              "      <td>16600.0</td>\n",
              "      <td>Arab Gaze,Uniform Laws,Tsunami Relief,Double S...</td>\n",
              "      <td>-0.7600</td>\n",
              "      <td>0.062</td>\n",
              "      <td>0.880</td>\n",
              "      <td>0.059</td>\n",
              "    </tr>\n",
              "    <tr>\n",
              "      <th>2005-01-05</th>\n",
              "      <td>6458.839844</td>\n",
              "      <td>6628.890137</td>\n",
              "      <td>6629.979980</td>\n",
              "      <td>6337.609863</td>\n",
              "      <td>24000.0</td>\n",
              "      <td>Quake Rumours,Mishap reunites 12-yr boy with f...</td>\n",
              "      <td>-0.9757</td>\n",
              "      <td>0.110</td>\n",
              "      <td>0.805</td>\n",
              "      <td>0.085</td>\n",
              "    </tr>\n",
              "    <tr>\n",
              "      <th>2005-01-06</th>\n",
              "      <td>6367.390137</td>\n",
              "      <td>6447.270020</td>\n",
              "      <td>6481.229980</td>\n",
              "      <td>6325.359863</td>\n",
              "      <td>22200.0</td>\n",
              "      <td>Doon School preparing to admit girls?,Market M...</td>\n",
              "      <td>0.9417</td>\n",
              "      <td>0.073</td>\n",
              "      <td>0.825</td>\n",
              "      <td>0.102</td>\n",
              "    </tr>\n",
              "    <tr>\n",
              "      <th>2005-01-07</th>\n",
              "      <td>6420.459961</td>\n",
              "      <td>6374.189941</td>\n",
              "      <td>6440.169922</td>\n",
              "      <td>6348.750000</td>\n",
              "      <td>17800.0</td>\n",
              "      <td>Faultline Repair,No Parade; Please,NRI Spirit,...</td>\n",
              "      <td>-0.9456</td>\n",
              "      <td>0.087</td>\n",
              "      <td>0.836</td>\n",
              "      <td>0.076</td>\n",
              "    </tr>\n",
              "  </tbody>\n",
              "</table>\n",
              "</div>"
            ],
            "text/plain": [
              "                  Close         Open         High  ...  negative  neutral positive\n",
              "2005-01-03  6679.200195  6626.490234  6684.220215  ...     0.114    0.802    0.084\n",
              "2005-01-04  6651.009766  6683.560059  6696.310059  ...     0.062    0.880    0.059\n",
              "2005-01-05  6458.839844  6628.890137  6629.979980  ...     0.110    0.805    0.085\n",
              "2005-01-06  6367.390137  6447.270020  6481.229980  ...     0.073    0.825    0.102\n",
              "2005-01-07  6420.459961  6374.189941  6440.169922  ...     0.087    0.836    0.076\n",
              "\n",
              "[5 rows x 10 columns]"
            ]
          },
          "metadata": {
            "tags": []
          },
          "execution_count": 15
        }
      ]
    },
    {
      "cell_type": "code",
      "metadata": {
        "id": "lnQFGqeFp3Rc",
        "colab": {
          "base_uri": "https://localhost:8080/",
          "height": 202
        },
        "outputId": "ca86f7a8-f30b-482a-f508-9b2dc4e175a6"
      },
      "source": [
        "\n",
        "# dropping the 'headline_text' which is unwanted now\n",
        "stock_data.drop(['headline_text'], inplace=True, axis=1)\n",
        "\n",
        "# rearranging the columns of the whole stock_data\n",
        "stock_data = stock_data[['Close', 'compound', 'negative', 'neutral', 'positive', 'Open', 'High', 'Low', 'Volume']]\n",
        "\n",
        "# displaying the final stock_data\n",
        "stock_data.head()"
      ],
      "execution_count": 16,
      "outputs": [
        {
          "output_type": "execute_result",
          "data": {
            "text/html": [
              "<div>\n",
              "<style scoped>\n",
              "    .dataframe tbody tr th:only-of-type {\n",
              "        vertical-align: middle;\n",
              "    }\n",
              "\n",
              "    .dataframe tbody tr th {\n",
              "        vertical-align: top;\n",
              "    }\n",
              "\n",
              "    .dataframe thead th {\n",
              "        text-align: right;\n",
              "    }\n",
              "</style>\n",
              "<table border=\"1\" class=\"dataframe\">\n",
              "  <thead>\n",
              "    <tr style=\"text-align: right;\">\n",
              "      <th></th>\n",
              "      <th>Close</th>\n",
              "      <th>compound</th>\n",
              "      <th>negative</th>\n",
              "      <th>neutral</th>\n",
              "      <th>positive</th>\n",
              "      <th>Open</th>\n",
              "      <th>High</th>\n",
              "      <th>Low</th>\n",
              "      <th>Volume</th>\n",
              "    </tr>\n",
              "  </thead>\n",
              "  <tbody>\n",
              "    <tr>\n",
              "      <th>2005-01-03</th>\n",
              "      <td>6679.200195</td>\n",
              "      <td>-0.9731</td>\n",
              "      <td>0.114</td>\n",
              "      <td>0.802</td>\n",
              "      <td>0.084</td>\n",
              "      <td>6626.490234</td>\n",
              "      <td>6684.220215</td>\n",
              "      <td>6626.490234</td>\n",
              "      <td>12000.0</td>\n",
              "    </tr>\n",
              "    <tr>\n",
              "      <th>2005-01-04</th>\n",
              "      <td>6651.009766</td>\n",
              "      <td>-0.7600</td>\n",
              "      <td>0.062</td>\n",
              "      <td>0.880</td>\n",
              "      <td>0.059</td>\n",
              "      <td>6683.560059</td>\n",
              "      <td>6696.310059</td>\n",
              "      <td>6640.899902</td>\n",
              "      <td>16600.0</td>\n",
              "    </tr>\n",
              "    <tr>\n",
              "      <th>2005-01-05</th>\n",
              "      <td>6458.839844</td>\n",
              "      <td>-0.9757</td>\n",
              "      <td>0.110</td>\n",
              "      <td>0.805</td>\n",
              "      <td>0.085</td>\n",
              "      <td>6628.890137</td>\n",
              "      <td>6629.979980</td>\n",
              "      <td>6337.609863</td>\n",
              "      <td>24000.0</td>\n",
              "    </tr>\n",
              "    <tr>\n",
              "      <th>2005-01-06</th>\n",
              "      <td>6367.390137</td>\n",
              "      <td>0.9417</td>\n",
              "      <td>0.073</td>\n",
              "      <td>0.825</td>\n",
              "      <td>0.102</td>\n",
              "      <td>6447.270020</td>\n",
              "      <td>6481.229980</td>\n",
              "      <td>6325.359863</td>\n",
              "      <td>22200.0</td>\n",
              "    </tr>\n",
              "    <tr>\n",
              "      <th>2005-01-07</th>\n",
              "      <td>6420.459961</td>\n",
              "      <td>-0.9456</td>\n",
              "      <td>0.087</td>\n",
              "      <td>0.836</td>\n",
              "      <td>0.076</td>\n",
              "      <td>6374.189941</td>\n",
              "      <td>6440.169922</td>\n",
              "      <td>6348.750000</td>\n",
              "      <td>17800.0</td>\n",
              "    </tr>\n",
              "  </tbody>\n",
              "</table>\n",
              "</div>"
            ],
            "text/plain": [
              "                  Close  compound  negative  ...         High          Low   Volume\n",
              "2005-01-03  6679.200195   -0.9731     0.114  ...  6684.220215  6626.490234  12000.0\n",
              "2005-01-04  6651.009766   -0.7600     0.062  ...  6696.310059  6640.899902  16600.0\n",
              "2005-01-05  6458.839844   -0.9757     0.110  ...  6629.979980  6337.609863  24000.0\n",
              "2005-01-06  6367.390137    0.9417     0.073  ...  6481.229980  6325.359863  22200.0\n",
              "2005-01-07  6420.459961   -0.9456     0.087  ...  6440.169922  6348.750000  17800.0\n",
              "\n",
              "[5 rows x 9 columns]"
            ]
          },
          "metadata": {
            "tags": []
          },
          "execution_count": 16
        }
      ]
    },
    {
      "cell_type": "markdown",
      "metadata": {
        "id": "FFQCynd1wVrG"
      },
      "source": [
        "# Feature engineering of combined data"
      ]
    },
    {
      "cell_type": "code",
      "metadata": {
        "colab": {
          "base_uri": "https://localhost:8080/"
        },
        "id": "AkOmBoZBWEdv",
        "outputId": "bc311810-2364-4387-f1b9-aa5e783b161a"
      },
      "source": [
        "stock_data.shape"
      ],
      "execution_count": 20,
      "outputs": [
        {
          "output_type": "execute_result",
          "data": {
            "text/plain": [
              "(3797, 9)"
            ]
          },
          "metadata": {
            "tags": []
          },
          "execution_count": 20
        }
      ]
    },
    {
      "cell_type": "code",
      "metadata": {
        "colab": {
          "base_uri": "https://localhost:8080/"
        },
        "id": "lkKe2L7QgyoK",
        "outputId": "b81047f1-3c1e-4546-bcbf-63b6c012c544"
      },
      "source": [
        "stock_data.isna().any()"
      ],
      "execution_count": 21,
      "outputs": [
        {
          "output_type": "execute_result",
          "data": {
            "text/plain": [
              "Close       False\n",
              "compound    False\n",
              "negative    False\n",
              "neutral     False\n",
              "positive    False\n",
              "Open        False\n",
              "High        False\n",
              "Low         False\n",
              "Volume      False\n",
              "dtype: bool"
            ]
          },
          "metadata": {
            "tags": []
          },
          "execution_count": 21
        }
      ]
    },
    {
      "cell_type": "code",
      "metadata": {
        "colab": {
          "base_uri": "https://localhost:8080/",
          "height": 294
        },
        "id": "VStFLy6UhpjO",
        "outputId": "b615ce92-820b-475d-e807-8c5799cbe2ea"
      },
      "source": [
        "# displaying stock_data statistics\n",
        "stock_data.describe(include='all')"
      ],
      "execution_count": 22,
      "outputs": [
        {
          "output_type": "execute_result",
          "data": {
            "text/html": [
              "<div>\n",
              "<style scoped>\n",
              "    .dataframe tbody tr th:only-of-type {\n",
              "        vertical-align: middle;\n",
              "    }\n",
              "\n",
              "    .dataframe tbody tr th {\n",
              "        vertical-align: top;\n",
              "    }\n",
              "\n",
              "    .dataframe thead th {\n",
              "        text-align: right;\n",
              "    }\n",
              "</style>\n",
              "<table border=\"1\" class=\"dataframe\">\n",
              "  <thead>\n",
              "    <tr style=\"text-align: right;\">\n",
              "      <th></th>\n",
              "      <th>Close</th>\n",
              "      <th>compound</th>\n",
              "      <th>negative</th>\n",
              "      <th>neutral</th>\n",
              "      <th>positive</th>\n",
              "      <th>Open</th>\n",
              "      <th>High</th>\n",
              "      <th>Low</th>\n",
              "      <th>Volume</th>\n",
              "    </tr>\n",
              "  </thead>\n",
              "  <tbody>\n",
              "    <tr>\n",
              "      <th>count</th>\n",
              "      <td>3797.000000</td>\n",
              "      <td>3797.000000</td>\n",
              "      <td>3797.000000</td>\n",
              "      <td>3797.000000</td>\n",
              "      <td>3797.000000</td>\n",
              "      <td>3797.000000</td>\n",
              "      <td>3797.000000</td>\n",
              "      <td>3797.000000</td>\n",
              "      <td>3.797000e+03</td>\n",
              "    </tr>\n",
              "    <tr>\n",
              "      <th>mean</th>\n",
              "      <td>21684.928516</td>\n",
              "      <td>-0.903121</td>\n",
              "      <td>0.128848</td>\n",
              "      <td>0.783971</td>\n",
              "      <td>0.087204</td>\n",
              "      <td>21709.947115</td>\n",
              "      <td>21839.237563</td>\n",
              "      <td>21537.699962</td>\n",
              "      <td>1.006863e+05</td>\n",
              "    </tr>\n",
              "    <tr>\n",
              "      <th>std</th>\n",
              "      <td>9076.435960</td>\n",
              "      <td>0.403484</td>\n",
              "      <td>0.021321</td>\n",
              "      <td>0.027023</td>\n",
              "      <td>0.015794</td>\n",
              "      <td>9095.508228</td>\n",
              "      <td>9111.481098</td>\n",
              "      <td>9051.906633</td>\n",
              "      <td>1.213891e+06</td>\n",
              "    </tr>\n",
              "    <tr>\n",
              "      <th>min</th>\n",
              "      <td>6102.740234</td>\n",
              "      <td>-1.000000</td>\n",
              "      <td>0.038000</td>\n",
              "      <td>0.635000</td>\n",
              "      <td>0.029000</td>\n",
              "      <td>6093.660156</td>\n",
              "      <td>6174.000000</td>\n",
              "      <td>6069.330078</td>\n",
              "      <td>8.000000e+02</td>\n",
              "    </tr>\n",
              "    <tr>\n",
              "      <th>25%</th>\n",
              "      <td>15446.150391</td>\n",
              "      <td>-0.999800</td>\n",
              "      <td>0.116000</td>\n",
              "      <td>0.766000</td>\n",
              "      <td>0.077000</td>\n",
              "      <td>15446.820313</td>\n",
              "      <td>15580.860352</td>\n",
              "      <td>15323.049805</td>\n",
              "      <td>1.060000e+04</td>\n",
              "    </tr>\n",
              "    <tr>\n",
              "      <th>50%</th>\n",
              "      <td>19355.259766</td>\n",
              "      <td>-0.999500</td>\n",
              "      <td>0.130000</td>\n",
              "      <td>0.781000</td>\n",
              "      <td>0.087000</td>\n",
              "      <td>19376.000000</td>\n",
              "      <td>19487.019531</td>\n",
              "      <td>19237.259766</td>\n",
              "      <td>1.440000e+04</td>\n",
              "    </tr>\n",
              "    <tr>\n",
              "      <th>75%</th>\n",
              "      <td>28092.789063</td>\n",
              "      <td>-0.997200</td>\n",
              "      <td>0.143000</td>\n",
              "      <td>0.800000</td>\n",
              "      <td>0.097000</td>\n",
              "      <td>28112.359375</td>\n",
              "      <td>28216.640625</td>\n",
              "      <td>27943.910156</td>\n",
              "      <td>2.020000e+04</td>\n",
              "    </tr>\n",
              "    <tr>\n",
              "      <th>max</th>\n",
              "      <td>41952.628906</td>\n",
              "      <td>1.000000</td>\n",
              "      <td>0.217000</td>\n",
              "      <td>0.901000</td>\n",
              "      <td>0.253000</td>\n",
              "      <td>42263.000000</td>\n",
              "      <td>42273.871094</td>\n",
              "      <td>41850.289063</td>\n",
              "      <td>3.181510e+07</td>\n",
              "    </tr>\n",
              "  </tbody>\n",
              "</table>\n",
              "</div>"
            ],
            "text/plain": [
              "              Close     compound  ...           Low        Volume\n",
              "count   3797.000000  3797.000000  ...   3797.000000  3.797000e+03\n",
              "mean   21684.928516    -0.903121  ...  21537.699962  1.006863e+05\n",
              "std     9076.435960     0.403484  ...   9051.906633  1.213891e+06\n",
              "min     6102.740234    -1.000000  ...   6069.330078  8.000000e+02\n",
              "25%    15446.150391    -0.999800  ...  15323.049805  1.060000e+04\n",
              "50%    19355.259766    -0.999500  ...  19237.259766  1.440000e+04\n",
              "75%    28092.789063    -0.997200  ...  27943.910156  2.020000e+04\n",
              "max    41952.628906     1.000000  ...  41850.289063  3.181510e+07\n",
              "\n",
              "[8 rows x 9 columns]"
            ]
          },
          "metadata": {
            "tags": []
          },
          "execution_count": 22
        }
      ]
    },
    {
      "cell_type": "code",
      "metadata": {
        "colab": {
          "base_uri": "https://localhost:8080/"
        },
        "id": "bVWgLt0yhuGf",
        "outputId": "364d0218-3024-4582-aebb-a2b44a62e833"
      },
      "source": [
        "# displaying stock_data information\n",
        "stock_data.info()"
      ],
      "execution_count": 23,
      "outputs": [
        {
          "output_type": "stream",
          "text": [
            "<class 'pandas.core.frame.DataFrame'>\n",
            "DatetimeIndex: 3797 entries, 2005-01-03 to 2020-06-30\n",
            "Data columns (total 9 columns):\n",
            " #   Column    Non-Null Count  Dtype  \n",
            "---  ------    --------------  -----  \n",
            " 0   Close     3797 non-null   float64\n",
            " 1   compound  3797 non-null   float64\n",
            " 2   negative  3797 non-null   float64\n",
            " 3   neutral   3797 non-null   float64\n",
            " 4   positive  3797 non-null   float64\n",
            " 5   Open      3797 non-null   float64\n",
            " 6   High      3797 non-null   float64\n",
            " 7   Low       3797 non-null   float64\n",
            " 8   Volume    3797 non-null   float64\n",
            "dtypes: float64(9)\n",
            "memory usage: 296.6 KB\n"
          ],
          "name": "stdout"
        }
      ]
    },
    {
      "cell_type": "markdown",
      "metadata": {
        "id": "nLqgXCWawxfQ"
      },
      "source": [
        "# Analysis of Stock Data"
      ]
    },
    {
      "cell_type": "code",
      "metadata": {
        "colab": {
          "base_uri": "https://localhost:8080/",
          "height": 597
        },
        "id": "oniCYSxHh564",
        "outputId": "0e808c6b-06b8-4ddb-da3b-43738fb7d54e"
      },
      "source": [
        "# setting figure size\n",
        "plt.figure(figsize=(15,10))\n",
        "\n",
        "# plotting close price\n",
        "stock_data['Close'].plot()\n",
        "\n",
        "# setting plot title, x and y labels\n",
        "plt.title(\"Close Price\")\n",
        "plt.xlabel('Date')\n",
        "plt.ylabel('Close Price (INR)')"
      ],
      "execution_count": 25,
      "outputs": [
        {
          "output_type": "execute_result",
          "data": {
            "text/plain": [
              "Text(0, 0.5, 'Close Price (INR)')"
            ]
          },
          "metadata": {
            "tags": []
          },
          "execution_count": 25
        },
        {
          "output_type": "display_data",
          "data": {
            "image/png": "[encoded data removed]",
            "text/plain": [
              "<Figure size 1080x720 with 1 Axes>"
            ]
          },
          "metadata": {
            "tags": [],
            "needs_background": "light"
          }
        }
      ]
    },
    {
      "cell_type": "code",
      "metadata": {
        "colab": {
          "base_uri": "https://localhost:8080/",
          "height": 662
        },
        "id": "cF-wPL6ZiBYB",
        "outputId": "fbeaefd4-5d5a-46c1-e7ea-76efee9f61b5"
      },
      "source": [
        "# calculating 7 day rolling mean\n",
        "stock_data.rolling(7).mean().head(20)"
      ],
      "execution_count": 26,
      "outputs": [
        {
          "output_type": "execute_result",
          "data": {
            "text/html": [
              "<div>\n",
              "<style scoped>\n",
              "    .dataframe tbody tr th:only-of-type {\n",
              "        vertical-align: middle;\n",
              "    }\n",
              "\n",
              "    .dataframe tbody tr th {\n",
              "        vertical-align: top;\n",
              "    }\n",
              "\n",
              "    .dataframe thead th {\n",
              "        text-align: right;\n",
              "    }\n",
              "</style>\n",
              "<table border=\"1\" class=\"dataframe\">\n",
              "  <thead>\n",
              "    <tr style=\"text-align: right;\">\n",
              "      <th></th>\n",
              "      <th>Close</th>\n",
              "      <th>compound</th>\n",
              "      <th>negative</th>\n",
              "      <th>neutral</th>\n",
              "      <th>positive</th>\n",
              "      <th>Open</th>\n",
              "      <th>High</th>\n",
              "      <th>Low</th>\n",
              "      <th>Volume</th>\n",
              "    </tr>\n",
              "  </thead>\n",
              "  <tbody>\n",
              "    <tr>\n",
              "      <th>2005-01-03</th>\n",
              "      <td>NaN</td>\n",
              "      <td>NaN</td>\n",
              "      <td>NaN</td>\n",
              "      <td>NaN</td>\n",
              "      <td>NaN</td>\n",
              "      <td>NaN</td>\n",
              "      <td>NaN</td>\n",
              "      <td>NaN</td>\n",
              "      <td>NaN</td>\n",
              "    </tr>\n",
              "    <tr>\n",
              "      <th>2005-01-04</th>\n",
              "      <td>NaN</td>\n",
              "      <td>NaN</td>\n",
              "      <td>NaN</td>\n",
              "      <td>NaN</td>\n",
              "      <td>NaN</td>\n",
              "      <td>NaN</td>\n",
              "      <td>NaN</td>\n",
              "      <td>NaN</td>\n",
              "      <td>NaN</td>\n",
              "    </tr>\n",
              "    <tr>\n",
              "      <th>2005-01-05</th>\n",
              "      <td>NaN</td>\n",
              "      <td>NaN</td>\n",
              "      <td>NaN</td>\n",
              "      <td>NaN</td>\n",
              "      <td>NaN</td>\n",
              "      <td>NaN</td>\n",
              "      <td>NaN</td>\n",
              "      <td>NaN</td>\n",
              "      <td>NaN</td>\n",
              "    </tr>\n",
              "    <tr>\n",
              "      <th>2005-01-06</th>\n",
              "      <td>NaN</td>\n",
              "      <td>NaN</td>\n",
              "      <td>NaN</td>\n",
              "      <td>NaN</td>\n",
              "      <td>NaN</td>\n",
              "      <td>NaN</td>\n",
              "      <td>NaN</td>\n",
              "      <td>NaN</td>\n",
              "      <td>NaN</td>\n",
              "    </tr>\n",
              "    <tr>\n",
              "      <th>2005-01-07</th>\n",
              "      <td>NaN</td>\n",
              "      <td>NaN</td>\n",
              "      <td>NaN</td>\n",
              "      <td>NaN</td>\n",
              "      <td>NaN</td>\n",
              "      <td>NaN</td>\n",
              "      <td>NaN</td>\n",
              "      <td>NaN</td>\n",
              "      <td>NaN</td>\n",
              "    </tr>\n",
              "    <tr>\n",
              "      <th>2005-01-10</th>\n",
              "      <td>NaN</td>\n",
              "      <td>NaN</td>\n",
              "      <td>NaN</td>\n",
              "      <td>NaN</td>\n",
              "      <td>NaN</td>\n",
              "      <td>NaN</td>\n",
              "      <td>NaN</td>\n",
              "      <td>NaN</td>\n",
              "      <td>NaN</td>\n",
              "    </tr>\n",
              "    <tr>\n",
              "      <th>2005-01-11</th>\n",
              "      <td>6444.044294</td>\n",
              "      <td>-0.389857</td>\n",
              "      <td>0.090429</td>\n",
              "      <td>0.821571</td>\n",
              "      <td>0.088000</td>\n",
              "      <td>6502.588658</td>\n",
              "      <td>6532.984305</td>\n",
              "      <td>6396.397112</td>\n",
              "      <td>17428.571429</td>\n",
              "    </tr>\n",
              "    <tr>\n",
              "      <th>2005-01-12</th>\n",
              "      <td>6361.692871</td>\n",
              "      <td>-0.387243</td>\n",
              "      <td>0.089429</td>\n",
              "      <td>0.821857</td>\n",
              "      <td>0.088714</td>\n",
              "      <td>6448.854353</td>\n",
              "      <td>6472.911412</td>\n",
              "      <td>6316.945661</td>\n",
              "      <td>18685.714286</td>\n",
              "    </tr>\n",
              "    <tr>\n",
              "      <th>2005-01-13</th>\n",
              "      <td>6300.271484</td>\n",
              "      <td>-0.350286</td>\n",
              "      <td>0.094714</td>\n",
              "      <td>0.810286</td>\n",
              "      <td>0.094857</td>\n",
              "      <td>6370.924317</td>\n",
              "      <td>6408.145717</td>\n",
              "      <td>6245.109933</td>\n",
              "      <td>19200.000000</td>\n",
              "    </tr>\n",
              "    <tr>\n",
              "      <th>2005-01-14</th>\n",
              "      <td>6259.554339</td>\n",
              "      <td>-0.099329</td>\n",
              "      <td>0.086714</td>\n",
              "      <td>0.821286</td>\n",
              "      <td>0.091857</td>\n",
              "      <td>6314.285714</td>\n",
              "      <td>6353.775739</td>\n",
              "      <td>6217.462821</td>\n",
              "      <td>18371.428571</td>\n",
              "    </tr>\n",
              "    <tr>\n",
              "      <th>2005-01-17</th>\n",
              "      <td>6234.794294</td>\n",
              "      <td>-0.375643</td>\n",
              "      <td>0.094286</td>\n",
              "      <td>0.817714</td>\n",
              "      <td>0.087857</td>\n",
              "      <td>6279.352888</td>\n",
              "      <td>6318.310059</td>\n",
              "      <td>6183.489955</td>\n",
              "      <td>17914.285714</td>\n",
              "    </tr>\n",
              "    <tr>\n",
              "      <th>2005-01-18</th>\n",
              "      <td>6202.207171</td>\n",
              "      <td>-0.383271</td>\n",
              "      <td>0.107000</td>\n",
              "      <td>0.807714</td>\n",
              "      <td>0.085286</td>\n",
              "      <td>6257.508580</td>\n",
              "      <td>6293.658622</td>\n",
              "      <td>6158.395647</td>\n",
              "      <td>18485.714286</td>\n",
              "    </tr>\n",
              "    <tr>\n",
              "      <th>2005-01-19</th>\n",
              "      <td>6182.889997</td>\n",
              "      <td>-0.612257</td>\n",
              "      <td>0.109286</td>\n",
              "      <td>0.810714</td>\n",
              "      <td>0.080000</td>\n",
              "      <td>6224.787109</td>\n",
              "      <td>6259.591518</td>\n",
              "      <td>6140.368513</td>\n",
              "      <td>18971.428571</td>\n",
              "    </tr>\n",
              "    <tr>\n",
              "      <th>2005-01-20</th>\n",
              "      <td>6177.228585</td>\n",
              "      <td>-0.607957</td>\n",
              "      <td>0.106000</td>\n",
              "      <td>0.817143</td>\n",
              "      <td>0.076857</td>\n",
              "      <td>6203.778530</td>\n",
              "      <td>6240.637207</td>\n",
              "      <td>6123.548549</td>\n",
              "      <td>20457.142857</td>\n",
              "    </tr>\n",
              "    <tr>\n",
              "      <th>2005-01-24</th>\n",
              "      <td>6177.755720</td>\n",
              "      <td>-0.339414</td>\n",
              "      <td>0.100714</td>\n",
              "      <td>0.823857</td>\n",
              "      <td>0.075571</td>\n",
              "      <td>6196.814244</td>\n",
              "      <td>6233.790039</td>\n",
              "      <td>6126.289969</td>\n",
              "      <td>20057.142857</td>\n",
              "    </tr>\n",
              "    <tr>\n",
              "      <th>2005-01-25</th>\n",
              "      <td>6169.458566</td>\n",
              "      <td>-0.408500</td>\n",
              "      <td>0.100857</td>\n",
              "      <td>0.829571</td>\n",
              "      <td>0.069714</td>\n",
              "      <td>6190.472865</td>\n",
              "      <td>6223.940011</td>\n",
              "      <td>6116.472866</td>\n",
              "      <td>20228.571429</td>\n",
              "    </tr>\n",
              "    <tr>\n",
              "      <th>2005-01-27</th>\n",
              "      <td>6178.831473</td>\n",
              "      <td>-0.401086</td>\n",
              "      <td>0.109286</td>\n",
              "      <td>0.812286</td>\n",
              "      <td>0.078571</td>\n",
              "      <td>6184.181431</td>\n",
              "      <td>6224.347168</td>\n",
              "      <td>6122.801409</td>\n",
              "      <td>20800.000000</td>\n",
              "    </tr>\n",
              "    <tr>\n",
              "      <th>2005-01-28</th>\n",
              "      <td>6210.977190</td>\n",
              "      <td>-0.393243</td>\n",
              "      <td>0.106000</td>\n",
              "      <td>0.813286</td>\n",
              "      <td>0.080857</td>\n",
              "      <td>6190.255650</td>\n",
              "      <td>6252.597168</td>\n",
              "      <td>6145.331404</td>\n",
              "      <td>21457.142857</td>\n",
              "    </tr>\n",
              "    <tr>\n",
              "      <th>2005-01-31</th>\n",
              "      <td>6262.918596</td>\n",
              "      <td>-0.390600</td>\n",
              "      <td>0.097286</td>\n",
              "      <td>0.819571</td>\n",
              "      <td>0.083286</td>\n",
              "      <td>6224.861398</td>\n",
              "      <td>6295.081473</td>\n",
              "      <td>6185.682827</td>\n",
              "      <td>21485.714286</td>\n",
              "    </tr>\n",
              "    <tr>\n",
              "      <th>2005-02-01</th>\n",
              "      <td>6317.082938</td>\n",
              "      <td>-0.441886</td>\n",
              "      <td>0.104857</td>\n",
              "      <td>0.811429</td>\n",
              "      <td>0.083857</td>\n",
              "      <td>6275.422852</td>\n",
              "      <td>6345.885742</td>\n",
              "      <td>6235.444266</td>\n",
              "      <td>23171.428571</td>\n",
              "    </tr>\n",
              "  </tbody>\n",
              "</table>\n",
              "</div>"
            ],
            "text/plain": [
              "                  Close  compound  ...          Low        Volume\n",
              "2005-01-03          NaN       NaN  ...          NaN           NaN\n",
              "2005-01-04          NaN       NaN  ...          NaN           NaN\n",
              "2005-01-05          NaN       NaN  ...          NaN           NaN\n",
              "2005-01-06          NaN       NaN  ...          NaN           NaN\n",
              "2005-01-07          NaN       NaN  ...          NaN           NaN\n",
              "2005-01-10          NaN       NaN  ...          NaN           NaN\n",
              "2005-01-11  6444.044294 -0.389857  ...  6396.397112  17428.571429\n",
              "2005-01-12  6361.692871 -0.387243  ...  6316.945661  18685.714286\n",
              "2005-01-13  6300.271484 -0.350286  ...  6245.109933  19200.000000\n",
              "2005-01-14  6259.554339 -0.099329  ...  6217.462821  18371.428571\n",
              "2005-01-17  6234.794294 -0.375643  ...  6183.489955  17914.285714\n",
              "2005-01-18  6202.207171 -0.383271  ...  6158.395647  18485.714286\n",
              "2005-01-19  6182.889997 -0.612257  ...  6140.368513  18971.428571\n",
              "2005-01-20  6177.228585 -0.607957  ...  6123.548549  20457.142857\n",
              "2005-01-24  6177.755720 -0.339414  ...  6126.289969  20057.142857\n",
              "2005-01-25  6169.458566 -0.408500  ...  6116.472866  20228.571429\n",
              "2005-01-27  6178.831473 -0.401086  ...  6122.801409  20800.000000\n",
              "2005-01-28  6210.977190 -0.393243  ...  6145.331404  21457.142857\n",
              "2005-01-31  6262.918596 -0.390600  ...  6185.682827  21485.714286\n",
              "2005-02-01  6317.082938 -0.441886  ...  6235.444266  23171.428571\n",
              "\n",
              "[20 rows x 9 columns]"
            ]
          },
          "metadata": {
            "tags": []
          },
          "execution_count": 26
        }
      ]
    },
    {
      "cell_type": "code",
      "metadata": {
        "colab": {
          "base_uri": "https://localhost:8080/",
          "height": 567
        },
        "id": "eH53Sg3LiVVP",
        "outputId": "fc131a77-668a-469e-9c5f-06879accdc1a"
      },
      "source": [
        "# setting figure size\n",
        "plt.figure(figsize=(15,10))\n",
        "\n",
        "# plotting the close price and a 30-day rolling mean of close price\n",
        "stock_data['Close'].plot()\n",
        "stock_data.rolling(window=30).mean()['Close'].plot()"
      ],
      "execution_count": 28,
      "outputs": [
        {
          "output_type": "execute_result",
          "data": {
            "text/plain": [
              "<matplotlib.axes._subplots.AxesSubplot at 0x7f102e983898>"
            ]
          },
          "metadata": {
            "tags": []
          },
          "execution_count": 28
        },
        {
          "output_type": "display_data",
          "data": {
            "image/png": "[encoded data removed]",
            "text/plain": [
              "<Figure size 1080x720 with 1 Axes>"
            ]
          },
          "metadata": {
            "tags": [],
            "needs_background": "light"
          }
        }
      ]
    },
    {
      "cell_type": "code",
      "metadata": {
        "colab": {
          "base_uri": "https://localhost:8080/",
          "height": 415
        },
        "id": "Jdsce8BEicLm",
        "outputId": "fbfd1b0a-ff15-4da8-d9b7-958be0e9bfeb"
      },
      "source": [
        "# displaying stock_data\n",
        "stock_data"
      ],
      "execution_count": 29,
      "outputs": [
        {
          "output_type": "execute_result",
          "data": {
            "text/html": [
              "<div>\n",
              "<style scoped>\n",
              "    .dataframe tbody tr th:only-of-type {\n",
              "        vertical-align: middle;\n",
              "    }\n",
              "\n",
              "    .dataframe tbody tr th {\n",
              "        vertical-align: top;\n",
              "    }\n",
              "\n",
              "    .dataframe thead th {\n",
              "        text-align: right;\n",
              "    }\n",
              "</style>\n",
              "<table border=\"1\" class=\"dataframe\">\n",
              "  <thead>\n",
              "    <tr style=\"text-align: right;\">\n",
              "      <th></th>\n",
              "      <th>Close</th>\n",
              "      <th>compound</th>\n",
              "      <th>negative</th>\n",
              "      <th>neutral</th>\n",
              "      <th>positive</th>\n",
              "      <th>Open</th>\n",
              "      <th>High</th>\n",
              "      <th>Low</th>\n",
              "      <th>Volume</th>\n",
              "    </tr>\n",
              "  </thead>\n",
              "  <tbody>\n",
              "    <tr>\n",
              "      <th>2005-01-03</th>\n",
              "      <td>6679.200195</td>\n",
              "      <td>-0.9731</td>\n",
              "      <td>0.114</td>\n",
              "      <td>0.802</td>\n",
              "      <td>0.084</td>\n",
              "      <td>6626.490234</td>\n",
              "      <td>6684.220215</td>\n",
              "      <td>6626.490234</td>\n",
              "      <td>12000.0</td>\n",
              "    </tr>\n",
              "    <tr>\n",
              "      <th>2005-01-04</th>\n",
              "      <td>6651.009766</td>\n",
              "      <td>-0.7600</td>\n",
              "      <td>0.062</td>\n",
              "      <td>0.880</td>\n",
              "      <td>0.059</td>\n",
              "      <td>6683.560059</td>\n",
              "      <td>6696.310059</td>\n",
              "      <td>6640.899902</td>\n",
              "      <td>16600.0</td>\n",
              "    </tr>\n",
              "    <tr>\n",
              "      <th>2005-01-05</th>\n",
              "      <td>6458.839844</td>\n",
              "      <td>-0.9757</td>\n",
              "      <td>0.110</td>\n",
              "      <td>0.805</td>\n",
              "      <td>0.085</td>\n",
              "      <td>6628.890137</td>\n",
              "      <td>6629.979980</td>\n",
              "      <td>6337.609863</td>\n",
              "      <td>24000.0</td>\n",
              "    </tr>\n",
              "    <tr>\n",
              "      <th>2005-01-06</th>\n",
              "      <td>6367.390137</td>\n",
              "      <td>0.9417</td>\n",
              "      <td>0.073</td>\n",
              "      <td>0.825</td>\n",
              "      <td>0.102</td>\n",
              "      <td>6447.270020</td>\n",
              "      <td>6481.229980</td>\n",
              "      <td>6325.359863</td>\n",
              "      <td>22200.0</td>\n",
              "    </tr>\n",
              "    <tr>\n",
              "      <th>2005-01-07</th>\n",
              "      <td>6420.459961</td>\n",
              "      <td>-0.9456</td>\n",
              "      <td>0.087</td>\n",
              "      <td>0.836</td>\n",
              "      <td>0.076</td>\n",
              "      <td>6374.189941</td>\n",
              "      <td>6440.169922</td>\n",
              "      <td>6348.750000</td>\n",
              "      <td>17800.0</td>\n",
              "    </tr>\n",
              "    <tr>\n",
              "      <th>...</th>\n",
              "      <td>...</td>\n",
              "      <td>...</td>\n",
              "      <td>...</td>\n",
              "      <td>...</td>\n",
              "      <td>...</td>\n",
              "      <td>...</td>\n",
              "      <td>...</td>\n",
              "      <td>...</td>\n",
              "      <td>...</td>\n",
              "    </tr>\n",
              "    <tr>\n",
              "      <th>2020-06-24</th>\n",
              "      <td>34868.980469</td>\n",
              "      <td>-0.9997</td>\n",
              "      <td>0.115</td>\n",
              "      <td>0.811</td>\n",
              "      <td>0.074</td>\n",
              "      <td>35679.738281</td>\n",
              "      <td>35706.550781</td>\n",
              "      <td>34794.929688</td>\n",
              "      <td>26600.0</td>\n",
              "    </tr>\n",
              "    <tr>\n",
              "      <th>2020-06-25</th>\n",
              "      <td>34842.101563</td>\n",
              "      <td>-0.9999</td>\n",
              "      <td>0.126</td>\n",
              "      <td>0.820</td>\n",
              "      <td>0.054</td>\n",
              "      <td>34525.390625</td>\n",
              "      <td>35081.609375</td>\n",
              "      <td>34499.781250</td>\n",
              "      <td>24600.0</td>\n",
              "    </tr>\n",
              "    <tr>\n",
              "      <th>2020-06-26</th>\n",
              "      <td>35171.269531</td>\n",
              "      <td>-0.9999</td>\n",
              "      <td>0.149</td>\n",
              "      <td>0.766</td>\n",
              "      <td>0.085</td>\n",
              "      <td>35144.781250</td>\n",
              "      <td>35254.878906</td>\n",
              "      <td>34910.339844</td>\n",
              "      <td>24800.0</td>\n",
              "    </tr>\n",
              "    <tr>\n",
              "      <th>2020-06-29</th>\n",
              "      <td>34961.519531</td>\n",
              "      <td>-0.9997</td>\n",
              "      <td>0.119</td>\n",
              "      <td>0.804</td>\n",
              "      <td>0.078</td>\n",
              "      <td>34926.949219</td>\n",
              "      <td>35032.359375</td>\n",
              "      <td>34662.058594</td>\n",
              "      <td>18300.0</td>\n",
              "    </tr>\n",
              "    <tr>\n",
              "      <th>2020-06-30</th>\n",
              "      <td>34915.800781</td>\n",
              "      <td>-0.9998</td>\n",
              "      <td>0.115</td>\n",
              "      <td>0.821</td>\n",
              "      <td>0.064</td>\n",
              "      <td>35168.300781</td>\n",
              "      <td>35233.910156</td>\n",
              "      <td>34812.800781</td>\n",
              "      <td>18500.0</td>\n",
              "    </tr>\n",
              "  </tbody>\n",
              "</table>\n",
              "<p>3797 rows × 9 columns</p>\n",
              "</div>"
            ],
            "text/plain": [
              "                   Close  compound  ...           Low   Volume\n",
              "2005-01-03   6679.200195   -0.9731  ...   6626.490234  12000.0\n",
              "2005-01-04   6651.009766   -0.7600  ...   6640.899902  16600.0\n",
              "2005-01-05   6458.839844   -0.9757  ...   6337.609863  24000.0\n",
              "2005-01-06   6367.390137    0.9417  ...   6325.359863  22200.0\n",
              "2005-01-07   6420.459961   -0.9456  ...   6348.750000  17800.0\n",
              "...                  ...       ...  ...           ...      ...\n",
              "2020-06-24  34868.980469   -0.9997  ...  34794.929688  26600.0\n",
              "2020-06-25  34842.101563   -0.9999  ...  34499.781250  24600.0\n",
              "2020-06-26  35171.269531   -0.9999  ...  34910.339844  24800.0\n",
              "2020-06-29  34961.519531   -0.9997  ...  34662.058594  18300.0\n",
              "2020-06-30  34915.800781   -0.9998  ...  34812.800781  18500.0\n",
              "\n",
              "[3797 rows x 9 columns]"
            ]
          },
          "metadata": {
            "tags": []
          },
          "execution_count": 29
        }
      ]
    },
    {
      "cell_type": "markdown",
      "metadata": {
        "id": "c4jO-brww6GB"
      },
      "source": [
        "# Preparing Data for Modelling"
      ]
    },
    {
      "cell_type": "code",
      "metadata": {
        "colab": {
          "base_uri": "https://localhost:8080/"
        },
        "id": "WfYn8UPYiigp",
        "outputId": "eb9a93bb-48d8-4006-be7a-6b8e2e896b07"
      },
      "source": [
        "# calculating data_to_use\n",
        "percentage_of_data = 1.0\n",
        "data_to_use = int(percentage_of_data*(len(stock_data)-1))\n",
        "\n",
        "# using 80% of data for training\n",
        "train_end = int(data_to_use*0.8)\n",
        "total_data = len(stock_data)\n",
        "start = total_data - data_to_use\n",
        "\n",
        "# printing number of records in the training and test datasets\n",
        "print(\"Number of records in Training Data:\", train_end)\n",
        "print(\"Number of records in Test Data:\", total_data - train_end)"
      ],
      "execution_count": 30,
      "outputs": [
        {
          "output_type": "stream",
          "text": [
            "Number of records in Training Data: 3036\n",
            "Number of records in Test Data: 761\n"
          ],
          "name": "stdout"
        }
      ]
    },
    {
      "cell_type": "code",
      "metadata": {
        "colab": {
          "base_uri": "https://localhost:8080/"
        },
        "id": "afJLYnhIirLS",
        "outputId": "efb8b750-d431-446a-a756-c2af98a2ed1d"
      },
      "source": [
        "# predicting one step ahead\n",
        "steps_to_predict = 1\n",
        "\n",
        "# capturing data to be used for each column\n",
        "close_price = stock_data.iloc[start:total_data,0] #close\n",
        "compound = stock_data.iloc[start:total_data,1] #compound\n",
        "negative = stock_data.iloc[start:total_data,2] #neg\n",
        "neutral = stock_data.iloc[start:total_data,3] #neu\n",
        "positive = stock_data.iloc[start:total_data,4] #pos\n",
        "open_price = stock_data.iloc[start:total_data,5] #open\n",
        "high = stock_data.iloc[start:total_data,6] #high\n",
        "low = stock_data.iloc[start:total_data,7] #low\n",
        "volume = stock_data.iloc[start:total_data,8] #volume\n",
        "\n",
        "# printing close price\n",
        "print(\"Close Price:\")\n",
        "close_price"
      ],
      "execution_count": 31,
      "outputs": [
        {
          "output_type": "stream",
          "text": [
            "Close Price:\n"
          ],
          "name": "stdout"
        },
        {
          "output_type": "execute_result",
          "data": {
            "text/plain": [
              "2005-01-04     6651.009766\n",
              "2005-01-05     6458.839844\n",
              "2005-01-06     6367.390137\n",
              "2005-01-07     6420.459961\n",
              "2005-01-10     6308.540039\n",
              "                  ...     \n",
              "2020-06-24    34868.980469\n",
              "2020-06-25    34842.101563\n",
              "2020-06-26    35171.269531\n",
              "2020-06-29    34961.519531\n",
              "2020-06-30    34915.800781\n",
              "Name: Close, Length: 3796, dtype: float64"
            ]
          },
          "metadata": {
            "tags": []
          },
          "execution_count": 31
        }
      ]
    },
    {
      "cell_type": "code",
      "metadata": {
        "colab": {
          "base_uri": "https://localhost:8080/",
          "height": 355
        },
        "id": "6b_0hzXQi6hQ",
        "outputId": "ff5e991e-07af-4400-882d-5555418e475f"
      },
      "source": [
        "\n",
        "# shifting next day close\n",
        "close_price_shifted = close_price.shift(-1) \n",
        "\n",
        "# shifting next day compound\n",
        "compound_shifted = compound.shift(-1) \n",
        "\n",
        "# concatenating the captured training data into a dataframe\n",
        "data = pd.concat([close_price, close_price_shifted, compound, compound_shifted, volume, open_price, high, low], axis=1)\n",
        "\n",
        "# setting column names of the revised stock data\n",
        "data.columns = ['close_price', 'close_price_shifted', 'compound', 'compound_shifted','volume', 'open_price', 'high', 'low']\n",
        "\n",
        "# dropping nulls\n",
        "data = data.dropna()    \n",
        "data.head(10)"
      ],
      "execution_count": 32,
      "outputs": [
        {
          "output_type": "execute_result",
          "data": {
            "text/html": [
              "<div>\n",
              "<style scoped>\n",
              "    .dataframe tbody tr th:only-of-type {\n",
              "        vertical-align: middle;\n",
              "    }\n",
              "\n",
              "    .dataframe tbody tr th {\n",
              "        vertical-align: top;\n",
              "    }\n",
              "\n",
              "    .dataframe thead th {\n",
              "        text-align: right;\n",
              "    }\n",
              "</style>\n",
              "<table border=\"1\" class=\"dataframe\">\n",
              "  <thead>\n",
              "    <tr style=\"text-align: right;\">\n",
              "      <th></th>\n",
              "      <th>close_price</th>\n",
              "      <th>close_price_shifted</th>\n",
              "      <th>compound</th>\n",
              "      <th>compound_shifted</th>\n",
              "      <th>volume</th>\n",
              "      <th>open_price</th>\n",
              "      <th>high</th>\n",
              "      <th>low</th>\n",
              "    </tr>\n",
              "  </thead>\n",
              "  <tbody>\n",
              "    <tr>\n",
              "      <th>2005-01-04</th>\n",
              "      <td>6651.009766</td>\n",
              "      <td>6458.839844</td>\n",
              "      <td>-0.7600</td>\n",
              "      <td>-0.9757</td>\n",
              "      <td>16600.0</td>\n",
              "      <td>6683.560059</td>\n",
              "      <td>6696.310059</td>\n",
              "      <td>6640.899902</td>\n",
              "    </tr>\n",
              "    <tr>\n",
              "      <th>2005-01-05</th>\n",
              "      <td>6458.839844</td>\n",
              "      <td>6367.390137</td>\n",
              "      <td>-0.9757</td>\n",
              "      <td>0.9417</td>\n",
              "      <td>24000.0</td>\n",
              "      <td>6628.890137</td>\n",
              "      <td>6629.979980</td>\n",
              "      <td>6337.609863</td>\n",
              "    </tr>\n",
              "    <tr>\n",
              "      <th>2005-01-06</th>\n",
              "      <td>6367.390137</td>\n",
              "      <td>6420.459961</td>\n",
              "      <td>0.9417</td>\n",
              "      <td>-0.9456</td>\n",
              "      <td>22200.0</td>\n",
              "      <td>6447.270020</td>\n",
              "      <td>6481.229980</td>\n",
              "      <td>6325.359863</td>\n",
              "    </tr>\n",
              "    <tr>\n",
              "      <th>2005-01-07</th>\n",
              "      <td>6420.459961</td>\n",
              "      <td>6308.540039</td>\n",
              "      <td>-0.9456</td>\n",
              "      <td>0.9673</td>\n",
              "      <td>17800.0</td>\n",
              "      <td>6374.189941</td>\n",
              "      <td>6440.169922</td>\n",
              "      <td>6348.750000</td>\n",
              "    </tr>\n",
              "    <tr>\n",
              "      <th>2005-01-10</th>\n",
              "      <td>6308.540039</td>\n",
              "      <td>6222.870117</td>\n",
              "      <td>0.9673</td>\n",
              "      <td>-0.9836</td>\n",
              "      <td>13200.0</td>\n",
              "      <td>6440.330078</td>\n",
              "      <td>6469.089844</td>\n",
              "      <td>6286.850098</td>\n",
              "    </tr>\n",
              "    <tr>\n",
              "      <th>2005-01-11</th>\n",
              "      <td>6222.870117</td>\n",
              "      <td>6102.740234</td>\n",
              "      <td>-0.9836</td>\n",
              "      <td>-0.9548</td>\n",
              "      <td>16200.0</td>\n",
              "      <td>6317.390137</td>\n",
              "      <td>6329.890137</td>\n",
              "      <td>6208.819824</td>\n",
              "    </tr>\n",
              "    <tr>\n",
              "      <th>2005-01-12</th>\n",
              "      <td>6102.740234</td>\n",
              "      <td>6221.060059</td>\n",
              "      <td>-0.9548</td>\n",
              "      <td>-0.5013</td>\n",
              "      <td>20800.0</td>\n",
              "      <td>6250.350098</td>\n",
              "      <td>6263.709961</td>\n",
              "      <td>6070.330078</td>\n",
              "    </tr>\n",
              "    <tr>\n",
              "      <th>2005-01-13</th>\n",
              "      <td>6221.060059</td>\n",
              "      <td>6173.819824</td>\n",
              "      <td>-0.5013</td>\n",
              "      <td>0.7810</td>\n",
              "      <td>20200.0</td>\n",
              "      <td>6138.049805</td>\n",
              "      <td>6242.950195</td>\n",
              "      <td>6138.049805</td>\n",
              "    </tr>\n",
              "    <tr>\n",
              "      <th>2005-01-14</th>\n",
              "      <td>6173.819824</td>\n",
              "      <td>6194.069824</td>\n",
              "      <td>0.7810</td>\n",
              "      <td>-0.9925</td>\n",
              "      <td>18200.0</td>\n",
              "      <td>6232.419922</td>\n",
              "      <td>6249.390137</td>\n",
              "      <td>6144.080078</td>\n",
              "    </tr>\n",
              "    <tr>\n",
              "      <th>2005-01-17</th>\n",
              "      <td>6194.069824</td>\n",
              "      <td>6192.350098</td>\n",
              "      <td>-0.9925</td>\n",
              "      <td>-0.9990</td>\n",
              "      <td>19000.0</td>\n",
              "      <td>6202.740234</td>\n",
              "      <td>6232.970215</td>\n",
              "      <td>6087.549805</td>\n",
              "    </tr>\n",
              "  </tbody>\n",
              "</table>\n",
              "</div>"
            ],
            "text/plain": [
              "            close_price  close_price_shifted  ...         high          low\n",
              "2005-01-04  6651.009766          6458.839844  ...  6696.310059  6640.899902\n",
              "2005-01-05  6458.839844          6367.390137  ...  6629.979980  6337.609863\n",
              "2005-01-06  6367.390137          6420.459961  ...  6481.229980  6325.359863\n",
              "2005-01-07  6420.459961          6308.540039  ...  6440.169922  6348.750000\n",
              "2005-01-10  6308.540039          6222.870117  ...  6469.089844  6286.850098\n",
              "2005-01-11  6222.870117          6102.740234  ...  6329.890137  6208.819824\n",
              "2005-01-12  6102.740234          6221.060059  ...  6263.709961  6070.330078\n",
              "2005-01-13  6221.060059          6173.819824  ...  6242.950195  6138.049805\n",
              "2005-01-14  6173.819824          6194.069824  ...  6249.390137  6144.080078\n",
              "2005-01-17  6194.069824          6192.350098  ...  6232.970215  6087.549805\n",
              "\n",
              "[10 rows x 8 columns]"
            ]
          },
          "metadata": {
            "tags": []
          },
          "execution_count": 32
        }
      ]
    },
    {
      "cell_type": "code",
      "metadata": {
        "colab": {
          "base_uri": "https://localhost:8080/"
        },
        "id": "yCGiKH2XjVZq",
        "outputId": "ae48502a-5960-4e1c-fc7f-7a38e89bdcbd"
      },
      "source": [
        "# setting the target variable as the shifted close_price\n",
        "y = data['close_price_shifted']\n",
        "y"
      ],
      "execution_count": 33,
      "outputs": [
        {
          "output_type": "execute_result",
          "data": {
            "text/plain": [
              "2005-01-04     6458.839844\n",
              "2005-01-05     6367.390137\n",
              "2005-01-06     6420.459961\n",
              "2005-01-07     6308.540039\n",
              "2005-01-10     6222.870117\n",
              "                  ...     \n",
              "2020-06-23    34868.980469\n",
              "2020-06-24    34842.101563\n",
              "2020-06-25    35171.269531\n",
              "2020-06-26    34961.519531\n",
              "2020-06-29    34915.800781\n",
              "Name: close_price_shifted, Length: 3795, dtype: float64"
            ]
          },
          "metadata": {
            "tags": []
          },
          "execution_count": 33
        }
      ]
    },
    {
      "cell_type": "code",
      "metadata": {
        "colab": {
          "base_uri": "https://localhost:8080/",
          "height": 415
        },
        "id": "zrUA-AZejcBP",
        "outputId": "4d64da1f-862a-4e1f-a1b3-155fdb9d8252"
      },
      "source": [
        "\n",
        "# setting the features dataset for prediction  \n",
        "cols = ['close_price', 'compound', 'compound_shifted', 'volume', 'open_price', 'high', 'low']\n",
        "x = data[cols]\n",
        "x"
      ],
      "execution_count": 34,
      "outputs": [
        {
          "output_type": "execute_result",
          "data": {
            "text/html": [
              "<div>\n",
              "<style scoped>\n",
              "    .dataframe tbody tr th:only-of-type {\n",
              "        vertical-align: middle;\n",
              "    }\n",
              "\n",
              "    .dataframe tbody tr th {\n",
              "        vertical-align: top;\n",
              "    }\n",
              "\n",
              "    .dataframe thead th {\n",
              "        text-align: right;\n",
              "    }\n",
              "</style>\n",
              "<table border=\"1\" class=\"dataframe\">\n",
              "  <thead>\n",
              "    <tr style=\"text-align: right;\">\n",
              "      <th></th>\n",
              "      <th>close_price</th>\n",
              "      <th>compound</th>\n",
              "      <th>compound_shifted</th>\n",
              "      <th>volume</th>\n",
              "      <th>open_price</th>\n",
              "      <th>high</th>\n",
              "      <th>low</th>\n",
              "    </tr>\n",
              "  </thead>\n",
              "  <tbody>\n",
              "    <tr>\n",
              "      <th>2005-01-04</th>\n",
              "      <td>6651.009766</td>\n",
              "      <td>-0.7600</td>\n",
              "      <td>-0.9757</td>\n",
              "      <td>16600.0</td>\n",
              "      <td>6683.560059</td>\n",
              "      <td>6696.310059</td>\n",
              "      <td>6640.899902</td>\n",
              "    </tr>\n",
              "    <tr>\n",
              "      <th>2005-01-05</th>\n",
              "      <td>6458.839844</td>\n",
              "      <td>-0.9757</td>\n",
              "      <td>0.9417</td>\n",
              "      <td>24000.0</td>\n",
              "      <td>6628.890137</td>\n",
              "      <td>6629.979980</td>\n",
              "      <td>6337.609863</td>\n",
              "    </tr>\n",
              "    <tr>\n",
              "      <th>2005-01-06</th>\n",
              "      <td>6367.390137</td>\n",
              "      <td>0.9417</td>\n",
              "      <td>-0.9456</td>\n",
              "      <td>22200.0</td>\n",
              "      <td>6447.270020</td>\n",
              "      <td>6481.229980</td>\n",
              "      <td>6325.359863</td>\n",
              "    </tr>\n",
              "    <tr>\n",
              "      <th>2005-01-07</th>\n",
              "      <td>6420.459961</td>\n",
              "      <td>-0.9456</td>\n",
              "      <td>0.9673</td>\n",
              "      <td>17800.0</td>\n",
              "      <td>6374.189941</td>\n",
              "      <td>6440.169922</td>\n",
              "      <td>6348.750000</td>\n",
              "    </tr>\n",
              "    <tr>\n",
              "      <th>2005-01-10</th>\n",
              "      <td>6308.540039</td>\n",
              "      <td>0.9673</td>\n",
              "      <td>-0.9836</td>\n",
              "      <td>13200.0</td>\n",
              "      <td>6440.330078</td>\n",
              "      <td>6469.089844</td>\n",
              "      <td>6286.850098</td>\n",
              "    </tr>\n",
              "    <tr>\n",
              "      <th>...</th>\n",
              "      <td>...</td>\n",
              "      <td>...</td>\n",
              "      <td>...</td>\n",
              "      <td>...</td>\n",
              "      <td>...</td>\n",
              "      <td>...</td>\n",
              "      <td>...</td>\n",
              "    </tr>\n",
              "    <tr>\n",
              "      <th>2020-06-23</th>\n",
              "      <td>35430.429688</td>\n",
              "      <td>-0.9999</td>\n",
              "      <td>-0.9997</td>\n",
              "      <td>25200.0</td>\n",
              "      <td>35015.730469</td>\n",
              "      <td>35482.160156</td>\n",
              "      <td>34843.691406</td>\n",
              "    </tr>\n",
              "    <tr>\n",
              "      <th>2020-06-24</th>\n",
              "      <td>34868.980469</td>\n",
              "      <td>-0.9997</td>\n",
              "      <td>-0.9999</td>\n",
              "      <td>26600.0</td>\n",
              "      <td>35679.738281</td>\n",
              "      <td>35706.550781</td>\n",
              "      <td>34794.929688</td>\n",
              "    </tr>\n",
              "    <tr>\n",
              "      <th>2020-06-25</th>\n",
              "      <td>34842.101563</td>\n",
              "      <td>-0.9999</td>\n",
              "      <td>-0.9999</td>\n",
              "      <td>24600.0</td>\n",
              "      <td>34525.390625</td>\n",
              "      <td>35081.609375</td>\n",
              "      <td>34499.781250</td>\n",
              "    </tr>\n",
              "    <tr>\n",
              "      <th>2020-06-26</th>\n",
              "      <td>35171.269531</td>\n",
              "      <td>-0.9999</td>\n",
              "      <td>-0.9997</td>\n",
              "      <td>24800.0</td>\n",
              "      <td>35144.781250</td>\n",
              "      <td>35254.878906</td>\n",
              "      <td>34910.339844</td>\n",
              "    </tr>\n",
              "    <tr>\n",
              "      <th>2020-06-29</th>\n",
              "      <td>34961.519531</td>\n",
              "      <td>-0.9997</td>\n",
              "      <td>-0.9998</td>\n",
              "      <td>18300.0</td>\n",
              "      <td>34926.949219</td>\n",
              "      <td>35032.359375</td>\n",
              "      <td>34662.058594</td>\n",
              "    </tr>\n",
              "  </tbody>\n",
              "</table>\n",
              "<p>3795 rows × 7 columns</p>\n",
              "</div>"
            ],
            "text/plain": [
              "             close_price  compound  ...          high           low\n",
              "2005-01-04   6651.009766   -0.7600  ...   6696.310059   6640.899902\n",
              "2005-01-05   6458.839844   -0.9757  ...   6629.979980   6337.609863\n",
              "2005-01-06   6367.390137    0.9417  ...   6481.229980   6325.359863\n",
              "2005-01-07   6420.459961   -0.9456  ...   6440.169922   6348.750000\n",
              "2005-01-10   6308.540039    0.9673  ...   6469.089844   6286.850098\n",
              "...                  ...       ...  ...           ...           ...\n",
              "2020-06-23  35430.429688   -0.9999  ...  35482.160156  34843.691406\n",
              "2020-06-24  34868.980469   -0.9997  ...  35706.550781  34794.929688\n",
              "2020-06-25  34842.101563   -0.9999  ...  35081.609375  34499.781250\n",
              "2020-06-26  35171.269531   -0.9999  ...  35254.878906  34910.339844\n",
              "2020-06-29  34961.519531   -0.9997  ...  35032.359375  34662.058594\n",
              "\n",
              "[3795 rows x 7 columns]"
            ]
          },
          "metadata": {
            "tags": []
          },
          "execution_count": 34
        }
      ]
    },
    {
      "cell_type": "markdown",
      "metadata": {
        "id": "spj-Zy7qxGbZ"
      },
      "source": [
        "# Scaling the features and dependent variable"
      ]
    },
    {
      "cell_type": "code",
      "metadata": {
        "colab": {
          "base_uri": "https://localhost:8080/"
        },
        "id": "r3Z7aMDAjhB5",
        "outputId": "4fc63883-4a3b-4074-ce62-2b14331f71c8"
      },
      "source": [
        "# scaling the feature dataset\n",
        "scaler_x = preprocessing.MinMaxScaler (feature_range=(-1, 1))\n",
        "x = np.array(x).reshape((len(x) ,len(cols)))\n",
        "x = scaler_x.fit_transform(x)\n",
        "\n",
        "# scaling the target variable\n",
        "scaler_y = preprocessing.MinMaxScaler (feature_range=(-1, 1))\n",
        "y = np.array (y).reshape ((len( y), 1))\n",
        "y = scaler_y.fit_transform (y)\n",
        "\n",
        "# displaying the scaled feature dataset and the target variable\n",
        "x, y"
      ],
      "execution_count": 35,
      "outputs": [
        {
          "output_type": "execute_result",
          "data": {
            "text/plain": [
              "(array([[-0.96941304, -0.76      , -0.9757    , ..., -0.96738122,\n",
              "         -0.97106305, -0.96805173],\n",
              "        [-0.98013385, -0.9757    ,  0.9417    , ..., -0.97040422,\n",
              "         -0.97473786, -0.98500433],\n",
              "        [-0.98523566,  0.9417    , -0.9456    , ..., -0.98044698,\n",
              "         -0.98297889, -0.98568905],\n",
              "        ...,\n",
              "        [ 0.60331663, -0.9999    , -0.9999    , ...,  0.57214539,\n",
              "          0.60153532,  0.58913858],\n",
              "        [ 0.62168031, -0.9999    , -0.9997    , ...,  0.60639488,\n",
              "          0.61113478,  0.61208702],\n",
              "        [ 0.60997874, -0.9997    , -0.9998    , ...,  0.59434976,\n",
              "          0.59880678,  0.59820918]]), array([[-0.98013385],\n",
              "        [-0.98523566],\n",
              "        [-0.982275  ],\n",
              "        ...,\n",
              "        [ 0.62168031],\n",
              "        [ 0.60997874],\n",
              "        [ 0.60742817]]))"
            ]
          },
          "metadata": {
            "tags": []
          },
          "execution_count": 35
        }
      ]
    },
    {
      "cell_type": "markdown",
      "metadata": {
        "id": "nn5hbBK_xPrH"
      },
      "source": [
        "# Dividing the data into training and test set"
      ]
    },
    {
      "cell_type": "code",
      "metadata": {
        "colab": {
          "base_uri": "https://localhost:8080/"
        },
        "id": "5cxpSO76jm00",
        "outputId": "81d7a5df-574d-443b-ef3a-47485fe3713a"
      },
      "source": [
        "# preparing training and test dataset\n",
        "X_train = x[0 : train_end,]\n",
        "X_test = x[train_end+1 : len(x),]    \n",
        "y_train = y[0 : train_end] \n",
        "y_test = y[train_end+1 : len(y)]  \n",
        "\n",
        "# printing the shape of the training and the test datasets\n",
        "print('Number of rows and columns in the Training set X:', X_train.shape, 'and y:', y_train.shape)\n",
        "print('Number of rows and columns in the Test set X:', X_test.shape, 'and y:', y_test.shape)"
      ],
      "execution_count": 36,
      "outputs": [
        {
          "output_type": "stream",
          "text": [
            "Number of rows and columns in the Training set X: (3036, 7) and y: (3036, 1)\n",
            "Number of rows and columns in the Test set X: (758, 7) and y: (758, 1)\n"
          ],
          "name": "stdout"
        }
      ]
    },
    {
      "cell_type": "code",
      "metadata": {
        "colab": {
          "base_uri": "https://localhost:8080/"
        },
        "id": "aPU4WqlijuK5",
        "outputId": "7e9b3963-1974-4ae8-cf06-a5547cd29089"
      },
      "source": [
        "# reshaping the feature dataset for feeding into the model\n",
        "X_train = X_train.reshape (X_train.shape + (1,)) \n",
        "X_test = X_test.reshape(X_test.shape + (1,))\n",
        "\n",
        "# printing the re-shaped feature dataset\n",
        "print('Shape of Training set X:', X_train.shape)\n",
        "print('Shape of Test set X:', X_test.shape)"
      ],
      "execution_count": 37,
      "outputs": [
        {
          "output_type": "stream",
          "text": [
            "Shape of Training set X: (3036, 7, 1)\n",
            "Shape of Test set X: (758, 7, 1)\n"
          ],
          "name": "stdout"
        }
      ]
    },
    {
      "cell_type": "markdown",
      "metadata": {
        "id": "pi-lMXolxcT_"
      },
      "source": [
        "# Modelling"
      ]
    },
    {
      "cell_type": "code",
      "metadata": {
        "colab": {
          "base_uri": "https://localhost:8080/"
        },
        "id": "VKubMijAjzGO",
        "outputId": "af4294a4-d200-4023-f750-12cce9da0f88"
      },
      "source": [
        "\n",
        "# setting the seed to achieve consistent and less random predictions at each execution\n",
        "np.random.seed(2016)\n",
        "\n",
        "# setting the model architecture\n",
        "model=Sequential()\n",
        "model.add(LSTM(100,return_sequences=True,activation='tanh',input_shape=(len(cols),1)))\n",
        "model.add(Dropout(0.1))\n",
        "model.add(LSTM(100,return_sequences=True,activation='tanh'))\n",
        "model.add(Dropout(0.1))\n",
        "model.add(LSTM(100,activation='tanh'))\n",
        "model.add(Dropout(0.1))\n",
        "model.add(Dense(1))\n",
        "\n",
        "# printing the model summary\n",
        "model.summary()"
      ],
      "execution_count": 38,
      "outputs": [
        {
          "output_type": "stream",
          "text": [
            "Model: \"sequential\"\n",
            "_________________________________________________________________\n",
            "Layer (type)                 Output Shape              Param #   \n",
            "=================================================================\n",
            "lstm (LSTM)                  (None, 7, 100)            40800     \n",
            "_________________________________________________________________\n",
            "dropout (Dropout)            (None, 7, 100)            0         \n",
            "_________________________________________________________________\n",
            "lstm_1 (LSTM)                (None, 7, 100)            80400     \n",
            "_________________________________________________________________\n",
            "dropout_1 (Dropout)          (None, 7, 100)            0         \n",
            "_________________________________________________________________\n",
            "lstm_2 (LSTM)                (None, 100)               80400     \n",
            "_________________________________________________________________\n",
            "dropout_2 (Dropout)          (None, 100)               0         \n",
            "_________________________________________________________________\n",
            "dense (Dense)                (None, 1)                 101       \n",
            "=================================================================\n",
            "Total params: 201,701\n",
            "Trainable params: 201,701\n",
            "Non-trainable params: 0\n",
            "_________________________________________________________________\n"
          ],
          "name": "stdout"
        }
      ]
    },
    {
      "cell_type": "code",
      "metadata": {
        "colab": {
          "base_uri": "https://localhost:8080/"
        },
        "id": "6B0DxBeGj4aL",
        "outputId": "80ddd4c3-6b76-4655-8f16-3831defb7495"
      },
      "source": [
        "# compiling the model\n",
        "model.compile(loss='mse' , optimizer='adam')\n",
        "\n",
        "# fitting the model using the training dataset\n",
        "model.fit(X_train, y_train, validation_split=0.2, epochs=10, batch_size=8, verbose=1)"
      ],
      "execution_count": 39,
      "outputs": [
        {
          "output_type": "stream",
          "text": [
            "Epoch 1/10\n",
            "304/304 [==============================] - 6s 18ms/step - loss: 0.0305 - val_loss: 0.0282\n",
            "Epoch 2/10\n",
            "304/304 [==============================] - 4s 14ms/step - loss: 0.0023 - val_loss: 3.4666e-04\n",
            "Epoch 3/10\n",
            "304/304 [==============================] - 4s 15ms/step - loss: 0.0014 - val_loss: 2.7857e-04\n",
            "Epoch 4/10\n",
            "304/304 [==============================] - 4s 15ms/step - loss: 0.0012 - val_loss: 0.0013\n",
            "Epoch 5/10\n",
            "304/304 [==============================] - 4s 14ms/step - loss: 0.0011 - val_loss: 3.7385e-04\n",
            "Epoch 6/10\n",
            "304/304 [==============================] - 4s 15ms/step - loss: 0.0011 - val_loss: 2.7777e-04\n",
            "Epoch 7/10\n",
            "304/304 [==============================] - 4s 14ms/step - loss: 0.0011 - val_loss: 3.7695e-04\n",
            "Epoch 8/10\n",
            "304/304 [==============================] - 4s 14ms/step - loss: 0.0011 - val_loss: 0.0012\n",
            "Epoch 9/10\n",
            "304/304 [==============================] - 4s 14ms/step - loss: 9.7575e-04 - val_loss: 3.3596e-04\n",
            "Epoch 10/10\n",
            "304/304 [==============================] - 4s 14ms/step - loss: 8.7012e-04 - val_loss: 2.7148e-04\n"
          ],
          "name": "stdout"
        },
        {
          "output_type": "execute_result",
          "data": {
            "text/plain": [
              "<tensorflow.python.keras.callbacks.History at 0x7f1028ed57b8>"
            ]
          },
          "metadata": {
            "tags": []
          },
          "execution_count": 39
        }
      ]
    },
    {
      "cell_type": "code",
      "metadata": {
        "colab": {
          "base_uri": "https://localhost:8080/"
        },
        "id": "77druBF_kBKp",
        "outputId": "73b11785-051f-4189-f17b-83e954fc4d95"
      },
      "source": [
        "# saving the model as a json file\n",
        "model_json = model.to_json()\n",
        "with open('model.json', 'w') as json_file:\n",
        "    json_file.write(model_json)\n",
        "    \n",
        "# serialize weights to HDF5\n",
        "model.save_weights('model.h5')\n",
        "print('Model is saved to the disk')"
      ],
      "execution_count": 40,
      "outputs": [
        {
          "output_type": "stream",
          "text": [
            "Model is saved to the disk\n"
          ],
          "name": "stdout"
        }
      ]
    },
    {
      "cell_type": "markdown",
      "metadata": {
        "id": "29RuSZ4txjGr"
      },
      "source": [
        "# Performing Predictions"
      ]
    },
    {
      "cell_type": "code",
      "metadata": {
        "colab": {
          "base_uri": "https://localhost:8080/"
        },
        "id": "f2asbc4YmWsz",
        "outputId": "c1bf33b4-e84a-44ab-c080-4864778f066d"
      },
      "source": [
        "predictions = model.predict(X_test) \n",
        "\n",
        "# unscaling the predictions\n",
        "predictions = scaler_y.inverse_transform(np.array(predictions).reshape((len(predictions), 1)))\n",
        "\n",
        "# printing the predictions\n",
        "print('Predictions:')\n",
        "predictions[0:5]"
      ],
      "execution_count": 41,
      "outputs": [
        {
          "output_type": "stream",
          "text": [
            "Predictions:\n"
          ],
          "name": "stdout"
        },
        {
          "output_type": "execute_result",
          "data": {
            "text/plain": [
              "array([[30455.547],\n",
              "       [30800.28 ],\n",
              "       [30941.666],\n",
              "       [31052.857],\n",
              "       [31107.244]], dtype=float32)"
            ]
          },
          "metadata": {
            "tags": []
          },
          "execution_count": 41
        }
      ]
    },
    {
      "cell_type": "markdown",
      "metadata": {
        "id": "Sy5wkuoUxp_9"
      },
      "source": [
        "# Evaluating the Model"
      ]
    },
    {
      "cell_type": "code",
      "metadata": {
        "colab": {
          "base_uri": "https://localhost:8080/"
        },
        "id": "OXyhYd_embsk",
        "outputId": "5ac9340a-95ea-47fa-9537-2bb83f74042e"
      },
      "source": [
        "\n",
        "# calculating the training mean-squared-error\n",
        "train_loss = model.evaluate(X_train, y_train, batch_size = 1)\n",
        "\n",
        "# calculating the test mean-squared-error\n",
        "test_loss = model.evaluate(X_test, y_test, batch_size = 1)\n",
        "\n",
        "# printing the training and the test mean-squared-errors\n",
        "print('Train Loss =', round(train_loss,4))\n",
        "print('Test Loss =', round(test_loss,4))"
      ],
      "execution_count": 42,
      "outputs": [
        {
          "output_type": "stream",
          "text": [
            "3036/3036 [==============================] - 7s 2ms/step - loss: 2.7078e-04\n",
            "758/758 [==============================] - 2s 2ms/step - loss: 8.5229e-04\n",
            "Train Loss = 0.0003\n",
            "Test Loss = 0.0009\n"
          ],
          "name": "stdout"
        }
      ]
    },
    {
      "cell_type": "code",
      "metadata": {
        "colab": {
          "base_uri": "https://localhost:8080/"
        },
        "id": "tb3SJoBlmfWz",
        "outputId": "2c37119a-85c0-47e5-a87a-56dbe0d88b35"
      },
      "source": [
        "# calculating root mean squared error\n",
        "root_mean_square_error = np.sqrt(np.mean(np.power((y_test - predictions),2)))\n",
        "print('Root Mean Square Error =', round(root_mean_square_error,4))"
      ],
      "execution_count": 43,
      "outputs": [
        {
          "output_type": "stream",
          "text": [
            "Root Mean Square Error = 35727.3824\n"
          ],
          "name": "stdout"
        }
      ]
    },
    {
      "cell_type": "code",
      "metadata": {
        "colab": {
          "base_uri": "https://localhost:8080/"
        },
        "id": "tjCxWlVHnncS",
        "outputId": "71444fcf-305b-474e-f91e-5e3a381eef40"
      },
      "source": [
        "# calculating root mean squared error using sklearn.metrics package\n",
        "rmse = metrics.mean_squared_error(y_test, predictions)\n",
        "print('Root Mean Square Error (sklearn.metrics) =', round(np.sqrt(rmse),4))"
      ],
      "execution_count": 45,
      "outputs": [
        {
          "output_type": "stream",
          "text": [
            "Root Mean Square Error (sklearn.metrics) = 35727.3824\n"
          ],
          "name": "stdout"
        }
      ]
    },
    {
      "cell_type": "code",
      "metadata": {
        "id": "4q-uPptwnqx8"
      },
      "source": [
        "# unscaling the test feature dataset, x_test\n",
        "X_test = scaler_x.inverse_transform(np.array(X_test).reshape((len(X_test), len(cols))))\n",
        "\n",
        "# unscaling the test y dataset, y_test\n",
        "y_train = scaler_y.inverse_transform(np.array(y_train).reshape((len(y_train), 1)))\n",
        "y_test = scaler_y.inverse_transform(np.array(y_test).reshape((len(y_test), 1)))"
      ],
      "execution_count": 46,
      "outputs": []
    },
    {
      "cell_type": "markdown",
      "metadata": {
        "id": "BDDutkGIx4YB"
      },
      "source": [
        "# Plotting the Predicted data against Test data"
      ]
    },
    {
      "cell_type": "code",
      "metadata": {
        "colab": {
          "base_uri": "https://localhost:8080/",
          "height": 625
        },
        "id": "bADYlahep7ke",
        "outputId": "77031b76-9297-46a3-eaae-1007dfb4ca0d"
      },
      "source": [
        "# plotting\n",
        "plt.figure(figsize=(16,10))\n",
        "\n",
        "# plt.plot([row[0] for row in y_train], label=\"Training Close Price\")\n",
        "plt.plot(predictions, label=\"Predicted Close Price\")\n",
        "plt.plot([row[0] for row in y_test], label=\"Testing Close Price\")\n",
        "plt.legend(loc='upper center', bbox_to_anchor=(0.5, -0.05), fancybox=True, shadow=True, ncol=2)\n",
        "plt.show()"
      ],
      "execution_count": 47,
      "outputs": [
        {
          "output_type": "display_data",
          "data": {
            "image/png": "[encoded data removed]",
            "text/plain": [
              "<Figure size 1152x720 with 1 Axes>"
            ]
          },
          "metadata": {
            "tags": [],
            "needs_background": "light"
          }
        }
      ]
    }
  ]
}